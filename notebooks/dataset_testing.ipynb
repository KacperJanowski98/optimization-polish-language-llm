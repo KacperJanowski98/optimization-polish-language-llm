{
 "cells": [
  {
   "cell_type": "markdown",
   "metadata": {},
   "source": [
    "# Polish Language Model Evaluation - Dataset Testing\n",
    "\n",
    "This notebook demonstrates how to use the dataset preparation module for evaluating Polish language models. We'll explore the following aspects:\n",
    "\n",
    "1. Loading datasets from the KLEJ benchmark\n",
    "2. Exploring dataset statistics\n",
    "3. Sampling datasets for evaluation\n",
    "4. Preparing combined evaluation datasets\n",
    "\n",
    "The datasets we'll be working with include:\n",
    "- allegro/klej-dyk - Question-answer pairs verification\n",
    "- allegro/klej-polemo2-in - Sentiment analysis for reviews\n",
    "- allegro/klej-psc - Text similarity between extracts and summaries\n",
    "- allegro/klej-cdsc-e - Entailment classification\n"
   ]
  },
  {
   "cell_type": "markdown",
   "metadata": {},
   "source": [
    "## 1. Setup and Imports"
   ]
  },
  {
   "cell_type": "code",
   "execution_count": 1,
   "metadata": {},
   "outputs": [
    {
     "name": "stderr",
     "output_type": "stream",
     "text": [
      "Note: Environment variable`HF_TOKEN` is set and is the current active token independently from the token you've just configured.\n",
      "2025-03-18 17:25:03,970 - huggingface_hub._login - WARNING - Note: Environment variable`HF_TOKEN` is set and is the current active token independently from the token you've just configured.\n"
     ]
    },
    {
     "name": "stdout",
     "output_type": "stream",
     "text": [
      "Successfully logged in to Hugging Face!\n"
     ]
    }
   ],
   "source": [
    "import os\n",
    "import sys\n",
    "import pandas as pd\n",
    "import matplotlib.pyplot as plt\n",
    "import seaborn as sns\n",
    "from dotenv import load_dotenv\n",
    "from huggingface_hub import login\n",
    "from pprint import pprint\n",
    "\n",
    "# Add the src directory to the path so we can import our modules\n",
    "sys.path.append('../')\n",
    "from src.datasets import PolishDatasetLoader, prepare_datasets_for_evaluation, get_dataset_examples\n",
    "\n",
    "# Set up matplotlib styling\n",
    "plt.style.use('ggplot')\n",
    "sns.set_theme(style=\"whitegrid\")\n",
    "\n",
    "# Load environment variables from .env file (if it exists)\n",
    "load_dotenv()\n",
    "\n",
    "# Get Hugging Face token from environment\n",
    "hf_token = os.getenv(\"HF_TOKEN\")\n",
    "if hf_token:\n",
    "    # Login to Hugging Face\n",
    "    login(token=hf_token)\n",
    "    print(\"Successfully logged in to Hugging Face!\")\n",
    "else:\n",
    "    print(\"HF_TOKEN not found in environment variables. Some datasets might not be accessible.\")\n",
    "    print(\"Create a .env file with your Hugging Face token if you encounter access issues.\")"
   ]
  },
  {
   "cell_type": "markdown",
   "metadata": {},
   "source": [
    "## 2. Initialize the Dataset Loader"
   ]
  },
  {
   "cell_type": "code",
   "execution_count": 2,
   "metadata": {},
   "outputs": [
    {
     "name": "stderr",
     "output_type": "stream",
     "text": [
      "2025-03-18 17:25:05,313 - src.datasets - INFO - PolishDatasetLoader initialized with seed 42\n"
     ]
    },
    {
     "name": "stdout",
     "output_type": "stream",
     "text": [
      "Dataset loader initialized\n"
     ]
    }
   ],
   "source": [
    "# Create a cache directory for datasets to avoid re-downloading\n",
    "cache_dir = \"../data/cache\"\n",
    "os.makedirs(cache_dir, exist_ok=True)\n",
    "\n",
    "# Initialize the dataset loader\n",
    "loader = PolishDatasetLoader(cache_dir=cache_dir, seed=42)\n",
    "print(\"Dataset loader initialized\")"
   ]
  },
  {
   "cell_type": "markdown",
   "metadata": {},
   "source": [
    "## 3. Load and Explore Datasets\n",
    "\n",
    "Let's load each dataset individually and explore its characteristics."
   ]
  },
  {
   "cell_type": "code",
   "execution_count": 3,
   "metadata": {},
   "outputs": [
    {
     "name": "stdout",
     "output_type": "stream",
     "text": [
      "\n",
      "DYK - Question-answer pairs from Polish Wikipedia\n",
      "  Path: binary_classification\n",
      "  Task type: binary_classification\n",
      "  Input columns: question, answer\n",
      "  Target column: target\n",
      "  Metrics: f1\n",
      "\n",
      "POLEMO2 - Polish sentiment analysis for reviews\n",
      "  Path: multi_classification\n",
      "  Task type: multi_classification\n",
      "  Input columns: sentence\n",
      "  Target column: target\n",
      "  Metrics: accuracy\n",
      "\n",
      "PSC - Polish Summaries Corpus for text similarity\n",
      "  Path: binary_classification\n",
      "  Task type: binary_classification\n",
      "  Input columns: extract_text, summary_text\n",
      "  Target column: label\n",
      "  Metrics: f1\n",
      "\n",
      "CDSC - Polish sentence pairs for entailment\n",
      "  Path: multi_classification\n",
      "  Task type: multi_classification\n",
      "  Input columns: sentence_A, sentence_B\n",
      "  Target column: entailment_judgment\n",
      "  Metrics: accuracy\n"
     ]
    }
   ],
   "source": [
    "# Get information about all supported datasets\n",
    "for dataset_name, info in loader.SUPPORTED_DATASETS.items():\n",
    "    print(f\"\\n{dataset_name.upper()} - {info['description']}\")\n",
    "    print(f\"  Path: {info['task_type']}\")\n",
    "    print(f\"  Task type: {info['task_type']}\")\n",
    "    print(f\"  Input columns: {', '.join(info['input_cols'])}\")\n",
    "    print(f\"  Target column: {info['target_col']}\")\n",
    "    print(f\"  Metrics: {', '.join(info['metrics'])}\")"
   ]
  },
  {
   "cell_type": "code",
   "execution_count": 4,
   "metadata": {},
   "outputs": [
    {
     "data": {
      "application/vnd.jupyter.widget-view+json": {
       "model_id": "097657463f824077840bc1ec33de1485",
       "version_major": 2,
       "version_minor": 0
      },
      "text/plain": [
       "Loading datasets:   0%|          | 0/4 [00:00<?, ?it/s]"
      ]
     },
     "metadata": {},
     "output_type": "display_data"
    },
    {
     "name": "stderr",
     "output_type": "stream",
     "text": [
      "2025-03-18 17:25:09,468 - src.datasets - INFO - Loading dataset: dyk (allegro/klej-dyk)\n",
      "2025-03-18 17:25:11,727 - src.datasets - INFO - Columns found in dyk: q_id, question, answer, target\n",
      "2025-03-18 17:25:11,733 - src.datasets - INFO - Successfully loaded dyk\n",
      "2025-03-18 17:25:11,733 - src.datasets - INFO - Loading dataset: polemo2 (allegro/klej-polemo2-in)\n",
      "2025-03-18 17:25:16,064 - src.datasets - INFO - Columns found in polemo2: sentence, target\n",
      "2025-03-18 17:25:16,080 - src.datasets - INFO - Successfully loaded polemo2\n",
      "2025-03-18 17:25:16,081 - src.datasets - INFO - Loading dataset: psc (allegro/klej-psc)\n",
      "2025-03-18 17:25:18,234 - src.datasets - INFO - Columns found in psc: extract_text, summary_text, label\n",
      "2025-03-18 17:25:18,239 - src.datasets - INFO - Successfully loaded psc\n",
      "2025-03-18 17:25:18,240 - src.datasets - INFO - Loading dataset: cdsc (allegro/klej-cdsc-e)\n",
      "2025-03-18 17:25:20,446 - src.datasets - INFO - Columns found in cdsc: pair_ID, sentence_A, sentence_B, entailment_judgment\n",
      "2025-03-18 17:25:20,458 - src.datasets - INFO - Successfully loaded cdsc\n"
     ]
    },
    {
     "name": "stdout",
     "output_type": "stream",
     "text": [
      "\n",
      "DYK:\n",
      "  train split: 4154 examples\n",
      "  test split: 1029 examples\n",
      "\n",
      "POLEMO2:\n",
      "  train split: 5783 examples\n",
      "  validation split: 723 examples\n",
      "  test split: 722 examples\n",
      "\n",
      "PSC:\n",
      "  train split: 4302 examples\n",
      "  test split: 1078 examples\n",
      "\n",
      "CDSC:\n",
      "  train split: 8000 examples\n",
      "  validation split: 1000 examples\n",
      "  test split: 1000 examples\n"
     ]
    }
   ],
   "source": [
    "# Load all datasets\n",
    "datasets = loader.load_all_datasets()\n",
    "\n",
    "# Print basic information about each dataset\n",
    "for name, dataset in datasets.items():\n",
    "    print(f\"\\n{name.upper()}:\")\n",
    "    for split_name, split in dataset.items():\n",
    "        print(f\"  {split_name} split: {len(split)} examples\")"
   ]
  },
  {
   "cell_type": "markdown",
   "metadata": {},
   "source": [
    "## 4. Detailed Dataset Statistics\n",
    "\n",
    "Let's get more detailed statistics for each dataset."
   ]
  },
  {
   "cell_type": "code",
   "execution_count": 5,
   "metadata": {},
   "outputs": [
    {
     "name": "stdout",
     "output_type": "stream",
     "text": [
      "\n",
      "DYK - Question-answer pairs from Polish Wikipedia\n",
      "Task: binary_classification\n",
      "\n",
      "train split:\n",
      "  Examples: 4154\n",
      "  Class distribution:\n",
      "    Label 0: 3453 examples (83.1%)\n",
      "    Label 1: 701 examples (16.9%)\n",
      "\n",
      "test split:\n",
      "  Examples: 1029\n",
      "  Class distribution:\n",
      "    Label 0: 855 examples (83.1%)\n",
      "    Label 1: 174 examples (16.9%)\n",
      "\n",
      "POLEMO2 - Polish sentiment analysis for reviews\n",
      "Task: multi_classification\n",
      "\n",
      "train split:\n",
      "  Examples: 5783\n",
      "  Class distribution:\n",
      "    Label 2: 1568 examples (27.1%)\n",
      "    Label 1: 2194 examples (37.9%)\n",
      "    Label 0: 1050 examples (18.2%)\n",
      "    Label 3: 971 examples (16.8%)\n",
      "\n",
      "validation split:\n",
      "  Examples: 723\n",
      "  Class distribution:\n",
      "    Label 1: 271 examples (37.5%)\n",
      "    Label 2: 209 examples (28.9%)\n",
      "    Label 3: 127 examples (17.6%)\n",
      "    Label 0: 116 examples (16.0%)\n",
      "\n",
      "test split:\n",
      "  Examples: 722\n",
      "  Class distribution:\n",
      "    Label 1: 300 examples (41.6%)\n",
      "    Label 3: 117 examples (16.2%)\n",
      "    Label 2: 197 examples (27.3%)\n",
      "    Label 0: 108 examples (15.0%)\n",
      "\n",
      "PSC - Polish Summaries Corpus for text similarity\n",
      "Task: binary_classification\n",
      "\n",
      "train split:\n",
      "  Examples: 4302\n",
      "  Class distribution:\n",
      "    Label 0: 3031 examples (70.5%)\n",
      "    Label 1: 1271 examples (29.5%)\n",
      "\n",
      "test split:\n",
      "  Examples: 1078\n",
      "  Class distribution:\n",
      "    Label 0: 750 examples (69.6%)\n",
      "    Label 1: 328 examples (30.4%)\n",
      "\n",
      "CDSC - Polish sentence pairs for entailment\n",
      "Task: multi_classification\n",
      "\n",
      "train split:\n",
      "  Examples: 8000\n",
      "  Class distribution:\n",
      "    Label 2: 5955 examples (74.4%)\n",
      "    Label 1: 1432 examples (17.9%)\n",
      "    Label 0: 613 examples (7.7%)\n",
      "\n",
      "validation split:\n",
      "  Examples: 1000\n",
      "  Class distribution:\n",
      "    Label 2: 741 examples (74.1%)\n",
      "    Label 0: 74 examples (7.4%)\n",
      "    Label 1: 185 examples (18.5%)\n",
      "\n",
      "test split:\n",
      "  Examples: 1000\n",
      "  Class distribution:\n",
      "    Label 2: 744 examples (74.4%)\n",
      "    Label 1: 190 examples (19.0%)\n",
      "    Label 0: 66 examples (6.6%)\n"
     ]
    }
   ],
   "source": [
    "# Get statistics for each dataset\n",
    "for dataset_name in loader.SUPPORTED_DATASETS.keys():\n",
    "    stats = loader.get_dataset_stats(dataset_name)\n",
    "    print(f\"\\n{stats['name'].upper()} - {stats['description']}\")\n",
    "    print(f\"Task: {stats['task_type']}\")\n",
    "    \n",
    "    for split_name, split_stats in stats['splits'].items():\n",
    "        print(f\"\\n{split_name} split:\")\n",
    "        print(f\"  Examples: {split_stats['examples']}\")\n",
    "        \n",
    "        if 'class_distribution' in split_stats:\n",
    "            print(\"  Class distribution:\")\n",
    "            for label, count in split_stats['class_distribution'].items():\n",
    "                print(f\"    Label {label}: {count} examples ({count/split_stats['examples']*100:.1f}%)\")"
   ]
  },
  {
   "cell_type": "markdown",
   "metadata": {},
   "source": [
    "## 5. Visualize Class Distributions\n",
    "\n",
    "Let's visualize the class distributions for each dataset."
   ]
  },
  {
   "cell_type": "code",
   "execution_count": 6,
   "metadata": {},
   "outputs": [
    {
     "data": {
      "image/png": "[encoded data removed]",
      "text/plain": [
       "<Figure size 1400x1000 with 4 Axes>"
      ]
     },
     "metadata": {},
     "output_type": "display_data"
    }
   ],
   "source": [
    "fig, axes = plt.subplots(2, 2, figsize=(14, 10))\n",
    "axes = axes.flatten()\n",
    "\n",
    "for i, dataset_name in enumerate(loader.SUPPORTED_DATASETS.keys()):\n",
    "    stats = loader.get_dataset_stats(dataset_name)\n",
    "    \n",
    "    # Use the test split for visualization\n",
    "    if 'test' in stats['splits']:\n",
    "        split_stats = stats['splits']['test']\n",
    "    else:\n",
    "        # Use the first available split if test is not available\n",
    "        split_name = list(stats['splits'].keys())[0]\n",
    "        split_stats = stats['splits'][split_name]\n",
    "    \n",
    "    if 'class_distribution' in split_stats:\n",
    "        labels = list(split_stats['class_distribution'].keys())\n",
    "        counts = list(split_stats['class_distribution'].values())\n",
    "        \n",
    "        axes[i].bar(labels, counts)\n",
    "        axes[i].set_title(f\"{dataset_name.upper()} - Class Distribution\")\n",
    "        axes[i].set_xlabel(\"Class Label\")\n",
    "        axes[i].set_ylabel(\"Count\")\n",
    "        \n",
    "        # Add value labels on top of bars\n",
    "        for j, count in enumerate(counts):\n",
    "            axes[i].text(j, count + 0.1, str(count), ha='center')\n",
    "\n",
    "plt.tight_layout()\n",
    "plt.show()"
   ]
  },
  {
   "cell_type": "markdown",
   "metadata": {},
   "source": [
    "## 6. Sample Datasets for Evaluation\n",
    "\n",
    "Now let's see how to sample a specific number of examples from each dataset while maintaining class balance."
   ]
  },
  {
   "cell_type": "code",
   "execution_count": 8,
   "metadata": {},
   "outputs": [
    {
     "name": "stderr",
     "output_type": "stream",
     "text": [
      "2025-03-18 17:25:43,992 - src.datasets - INFO - Sampled 50 examples from dyk (test split)\n",
      "2025-03-18 17:25:43,994 - src.datasets - INFO - Sampled 50 examples from polemo2 (test split)\n",
      "2025-03-18 17:25:43,997 - src.datasets - INFO - Sampled 50 examples from psc (test split)\n",
      "2025-03-18 17:25:43,998 - src.datasets - INFO - Sampled 50 examples from cdsc (test split)\n"
     ]
    },
    {
     "name": "stdout",
     "output_type": "stream",
     "text": [
      "\n",
      "DYK:\n",
      "  Requested: 50 examples\n",
      "  Sampled: 50 examples\n",
      "  Class distribution in sample:\n",
      "    Label 1: 25 examples (50.0%)\n",
      "    Label 0: 25 examples (50.0%)\n",
      "\n",
      "POLEMO2:\n",
      "  Requested: 50 examples\n",
      "  Sampled: 50 examples\n",
      "  Class distribution in sample:\n",
      "    Label 1: 13 examples (26.0%)\n",
      "    Label 0: 13 examples (26.0%)\n",
      "    Label 3: 12 examples (24.0%)\n",
      "    Label 2: 12 examples (24.0%)\n",
      "\n",
      "PSC:\n",
      "  Requested: 50 examples\n",
      "  Sampled: 50 examples\n",
      "  Class distribution in sample:\n",
      "    Label 1: 25 examples (50.0%)\n",
      "    Label 0: 25 examples (50.0%)\n",
      "\n",
      "CDSC:\n",
      "  Requested: 50 examples\n",
      "  Sampled: 50 examples\n",
      "  Class distribution in sample:\n",
      "    Label 1: 17 examples (34.0%)\n",
      "    Label 2: 17 examples (34.0%)\n",
      "    Label 0: 16 examples (32.0%)\n"
     ]
    }
   ],
   "source": [
    "# Sample 50 examples from each dataset\n",
    "samples_per_dataset = {\n",
    "    'dyk': 50,\n",
    "    'polemo2': 50,\n",
    "    'psc': 50,\n",
    "    'cdsc': 50\n",
    "}\n",
    "\n",
    "evaluation_datasets = loader.create_evaluation_dataset(\n",
    "    samples_per_dataset=samples_per_dataset,\n",
    "    split='test'\n",
    ")\n",
    "\n",
    "# Print information about the sampled datasets\n",
    "for name, dataset in evaluation_datasets.items():\n",
    "    print(f\"\\n{name.upper()}:\")\n",
    "    print(f\"  Requested: {samples_per_dataset[name]} examples\")\n",
    "    print(f\"  Sampled: {len(dataset)} examples\")\n",
    "    \n",
    "    # Get class distribution for the sampled dataset\n",
    "    info = loader.get_dataset_info(name)\n",
    "    target_col = info['target_col']\n",
    "    \n",
    "    if 'classification' in info['task_type']:\n",
    "        labels = dataset[target_col]\n",
    "        \n",
    "        # Count occurrences of each label\n",
    "        label_counts = {}\n",
    "        for label in labels:\n",
    "            if label not in label_counts:\n",
    "                label_counts[label] = 0\n",
    "            label_counts[label] += 1\n",
    "        \n",
    "        print(\"  Class distribution in sample:\")\n",
    "        for label, count in label_counts.items():\n",
    "            print(f\"    Label {label}: {count} examples ({count/len(dataset)*100:.1f}%)\")"
   ]
  },
  {
   "cell_type": "markdown",
   "metadata": {},
   "source": [
    "## 7. Explore Dataset Examples\n",
    "\n",
    "Let's look at some examples from each dataset to better understand the data."
   ]
  },
  {
   "cell_type": "code",
   "execution_count": 9,
   "metadata": {},
   "outputs": [
    {
     "name": "stdout",
     "output_type": "stream",
     "text": [
      "\n",
      "DYK EXAMPLES:\n",
      "\n",
      "Example 1:\n",
      "  question: w których obrazach Vincent van Gogh porzucił swobodny nastrój, charakterystyczny dla impresjonizmu?\n",
      "  answer: Artysta umieścił płomienną żółcień słoneczników na znajomym, niebieskim tleOpis dotyczy wersji trzec...\n",
      "  target: 1\n",
      "\n",
      "Example 2:\n",
      "  question: co ma wspólnego z kinematografią Sputnik nad Polską?\n",
      "  answer: \"Podczas uroczystości Dnia Niepodległości w Ambasadzie Federacji Rosyjskiej w Polsce 5. czerwca 2012...\n",
      "  target: 1\n",
      "\n",
      "Example 3:\n",
      "  question: \"jaka uroczystość miała miejsce 28 grudnia 1836 w dzisiejszej Adelajdzie w Australii pod \"\"starym eu...\n",
      "  answer: The Old Gum Tree The Old Gum Tree (ang. „Stary eukaliptus”) – historyczne miejsce obecnie położone w...\n",
      "  target: 1\n",
      "\n",
      "POLEMO2 EXAMPLES:\n",
      "\n",
      "Example 1:\n",
      "  sentence: Okropnosc ! Myślę , że ludzia którzy cenią sobie własne prawa wezmą sobie ta opinie do serca . Na wł...\n",
      "  target: 1\n",
      "\n",
      "Example 2:\n",
      "  sentence: Być może w ubiegłych latach było tu fajnie , ale teraz jest po prostu żle . Polozenie może i ciekawe...\n",
      "  target: 1\n",
      "\n",
      "Example 3:\n",
      "  sentence: Pobyt w hotelu Jeravi zapamiętamy z niezbyt dobrego i monotonnego jedzenia - ziemniaki i kurczaki w ...\n",
      "  target: 1\n",
      "\n",
      "PSC EXAMPLES:\n",
      "\n",
      "Example 1:\n",
      "  extract_text: Eksperci oraz przedstawiciele firm i rządów są niemal jednomyślni - dzięki wielomiesięcznym przygoto...\n",
      "  summary_text: Zdaniem ekspertów oraz przedstawicieli firm i rządów dzięki długim przygotowaniom Problem Roku 2000 ...\n",
      "  label: 1\n",
      "\n",
      "Example 2:\n",
      "  extract_text: Decyzja rządu o zmniejszeniu Wojska Polskiego do 150 tysięcy żołnierzy nie jest przypadkowa. Dojrzew...\n",
      "  summary_text: Na styczeń planowana jest podwyżka cen i stawek VAT na prąd i gaz oraz akcyzy na benzynę. Prawdopodo...\n",
      "  label: 0\n",
      "\n",
      "Example 3:\n",
      "  extract_text: Stadion narodowy powinien być w Warszawie, a nie w Chorzowie - twierdzą minister sportu i trener pił...\n",
      "  summary_text: Budowa Stadionu Śląskiego nie ma dobrej prasy. Rzecznik Ministerstwa Sportu wydał komunikat prasowy,...\n",
      "  label: 1\n",
      "\n",
      "CDSC EXAMPLES:\n",
      "\n",
      "Example 1:\n",
      "  sentence_A: Chłopak w okularach patrzy na telefon komórkowy , trzymając w ręce plastikowy kubek z napojem .\n",
      "  sentence_B: Chłopak w okularach patrzy na telefon komórkowy , trzymając w uniesionej do góry ręce plastikowy kub...\n",
      "  entailment_judgment: 1\n",
      "\n",
      "Example 2:\n",
      "  sentence_A: Kilka osób przemierza zaśnieżony teren niedaleko górskich wzniesień .\n",
      "  sentence_B: Cztery osoby idą po głębokim śniegu w górach .\n",
      "  entailment_judgment: 1\n",
      "\n",
      "Example 3:\n",
      "  sentence_A: Grupa ludzi tańczy na piasku obok stojących aut .\n",
      "  sentence_B: Grupa uśmiechających się ludzi tańczy na piasku obok stojących aut .\n",
      "  entailment_judgment: 1\n"
     ]
    }
   ],
   "source": [
    "for dataset_name, dataset in evaluation_datasets.items():\n",
    "    info = loader.get_dataset_info(dataset_name)\n",
    "    \n",
    "    print(f\"\\n{dataset_name.upper()} EXAMPLES:\")\n",
    "    examples = get_dataset_examples(dataset, info, n_examples=3)\n",
    "    \n",
    "    for i, example in enumerate(examples):\n",
    "        print(f\"\\nExample {i+1}:\")\n",
    "        for key, value in example.items():\n",
    "            if isinstance(value, str) and len(value) > 100:\n",
    "                # Truncate long text\n",
    "                print(f\"  {key}: {value[:100]}...\")\n",
    "            else:\n",
    "                print(f\"  {key}: {value}\")"
   ]
  },
  {
   "cell_type": "markdown",
   "metadata": {},
   "source": [
    "## 8. Convert to DataFrame\n",
    "\n",
    "For further analysis, it can be useful to convert datasets to Pandas DataFrames."
   ]
  },
  {
   "cell_type": "code",
   "execution_count": 10,
   "metadata": {},
   "outputs": [
    {
     "name": "stdout",
     "output_type": "stream",
     "text": [
      "\n",
      "DYK DataFrame:\n",
      "<class 'pandas.core.frame.DataFrame'>\n",
      "RangeIndex: 50 entries, 0 to 49\n",
      "Data columns (total 4 columns):\n",
      " #   Column    Non-Null Count  Dtype \n",
      "---  ------    --------------  ----- \n",
      " 0   q_id      50 non-null     object\n",
      " 1   question  50 non-null     object\n",
      " 2   answer    50 non-null     object\n",
      " 3   target    50 non-null     int64 \n",
      "dtypes: int64(1), object(3)\n",
      "memory usage: 1.7+ KB\n",
      "None\n"
     ]
    },
    {
     "data": {
      "application/vnd.microsoft.datawrangler.viewer.v0+json": {
       "columns": [
        {
         "name": "index",
         "rawType": "int64",
         "type": "integer"
        },
        {
         "name": "q_id",
         "rawType": "object",
         "type": "string"
        },
        {
         "name": "question",
         "rawType": "object",
         "type": "string"
        },
        {
         "name": "answer",
         "rawType": "object",
         "type": "string"
        },
        {
         "name": "target",
         "rawType": "int64",
         "type": "integer"
        }
       ],
       "conversionMethod": "pd.DataFrame",
       "ref": "c92b80b9-4399-41a2-a708-02919087335e",
       "rows": [
        [
         "0",
         "czywiesz2001",
         "w których obrazach Vincent van Gogh porzucił swobodny nastrój, charakterystyczny dla impresjonizmu?",
         "Artysta umieścił płomienną żółcień słoneczników na znajomym, niebieskim tleOpis dotyczy wersji trzeciej Dwóch ściętych słoneczników oraz Czterech ściętych słoneczników''., oddając ich nasiona krótkimi pociągnięciami i muśnięciami pędzla, ale te zapożyczenia z różnych -izmów panujących wtedy w sztuce nie noszą tu posmaku imitatorstwa. Malowidło przedstawiające dorodne, ujęte z bliska głowy słoneczników na obciętych łodygach, okolone postrzępionymi płatkami, jest pełne metafor; sugeruje pewne zagrożenie ale także poczucie solidarności z żywą istotą, która właśnie więdnie i wkrótce obumrze. Tym samym van Gogh autorytatywnie porzucił swobodny nastrój, charakterystyczny dla impresjonizmu.",
         "1"
        ],
        [
         "1",
         "czywiesz164",
         "co ma wspólnego z kinematografią Sputnik nad Polską?",
         "\"Podczas uroczystości Dnia Niepodległości w Ambasadzie Federacji Rosyjskiej w Polsce 5. czerwca 2012 roku Małgorzata Szlagowska Skulska (dyrektor Festiwalu Filmów Rosyjskich \"\"Sputnik nad Polską\"\" oraz Festiwalu Filmów Polskich \"\"Wisła\"\" w Rosji) otrzymała z rąk Ambasadora Federacji Rosyjskiej Aleksandra Aleksiejewa Medal Puszkina, nadany przez Prezydenta Federacji Rosyjskiej.\"",
         "1"
        ]
       ],
       "shape": {
        "columns": 4,
        "rows": 2
       }
      },
      "text/html": [
       "<div>\n",
       "<style scoped>\n",
       "    .dataframe tbody tr th:only-of-type {\n",
       "        vertical-align: middle;\n",
       "    }\n",
       "\n",
       "    .dataframe tbody tr th {\n",
       "        vertical-align: top;\n",
       "    }\n",
       "\n",
       "    .dataframe thead th {\n",
       "        text-align: right;\n",
       "    }\n",
       "</style>\n",
       "<table border=\"1\" class=\"dataframe\">\n",
       "  <thead>\n",
       "    <tr style=\"text-align: right;\">\n",
       "      <th></th>\n",
       "      <th>q_id</th>\n",
       "      <th>question</th>\n",
       "      <th>answer</th>\n",
       "      <th>target</th>\n",
       "    </tr>\n",
       "  </thead>\n",
       "  <tbody>\n",
       "    <tr>\n",
       "      <th>0</th>\n",
       "      <td>czywiesz2001</td>\n",
       "      <td>w których obrazach Vincent van Gogh porzucił s...</td>\n",
       "      <td>Artysta umieścił płomienną żółcień słonecznikó...</td>\n",
       "      <td>1</td>\n",
       "    </tr>\n",
       "    <tr>\n",
       "      <th>1</th>\n",
       "      <td>czywiesz164</td>\n",
       "      <td>co ma wspólnego z kinematografią Sputnik nad P...</td>\n",
       "      <td>\"Podczas uroczystości Dnia Niepodległości w Am...</td>\n",
       "      <td>1</td>\n",
       "    </tr>\n",
       "  </tbody>\n",
       "</table>\n",
       "</div>"
      ],
      "text/plain": [
       "           q_id                                           question  \\\n",
       "0  czywiesz2001  w których obrazach Vincent van Gogh porzucił s...   \n",
       "1   czywiesz164  co ma wspólnego z kinematografią Sputnik nad P...   \n",
       "\n",
       "                                              answer  target  \n",
       "0  Artysta umieścił płomienną żółcień słonecznikó...       1  \n",
       "1  \"Podczas uroczystości Dnia Niepodległości w Am...       1  "
      ]
     },
     "metadata": {},
     "output_type": "display_data"
    },
    {
     "name": "stdout",
     "output_type": "stream",
     "text": [
      "\n",
      "POLEMO2 DataFrame:\n",
      "<class 'pandas.core.frame.DataFrame'>\n",
      "RangeIndex: 50 entries, 0 to 49\n",
      "Data columns (total 2 columns):\n",
      " #   Column    Non-Null Count  Dtype \n",
      "---  ------    --------------  ----- \n",
      " 0   sentence  50 non-null     object\n",
      " 1   target    50 non-null     int64 \n",
      "dtypes: int64(1), object(1)\n",
      "memory usage: 932.0+ bytes\n",
      "None\n"
     ]
    },
    {
     "data": {
      "application/vnd.microsoft.datawrangler.viewer.v0+json": {
       "columns": [
        {
         "name": "index",
         "rawType": "int64",
         "type": "integer"
        },
        {
         "name": "sentence",
         "rawType": "object",
         "type": "string"
        },
        {
         "name": "target",
         "rawType": "int64",
         "type": "integer"
        }
       ],
       "conversionMethod": "pd.DataFrame",
       "ref": "20c5f377-c835-4ccd-a568-87ce1e85d80b",
       "rows": [
        [
         "0",
         "Okropnosc ! Myślę , że ludzia którzy cenią sobie własne prawa wezmą sobie ta opinie do serca . Na własnym przykładzie mogę powiedzieć , że śniadania są nie do przełkniecia , bez smaku , zimne , monotonne oraz brudne i nie myte ! Wyobrażacie sobie chwytać po jedzenie a na nim kurz z pajęczynami jak w piwnicy . . na terenie hotelu nie zostawiajcie ani nie daj Boże zapomnijcie coś z basenu , gdyż innym ludzia bezkarnie pozwalają kraść . Są kamery ale chyba tylko po to czy nie wnosisz swojego jedzenia i alkoholu a nie gdy ktoś coś ukradnie . . Pani z recepcji w nocy widząc reklamowke mówi do nas ze nie możemy wnieść jedzenia do pokoju . Czy to nie żenujące ? Macie umierać z głodu bo ich kuchnia tez jest zamknięta . Brak gorącej wody dostępnej dla gości , obsługa nie rozumie nic w języku angielskim i na wszystko odpowiada \" i don't know , ,",
         "1"
        ],
        [
         "1",
         "Być może w ubiegłych latach było tu fajnie , ale teraz jest po prostu żle . Polozenie może i ciekawe dla niektórych bo blisko tężni , ale cały dzień i pół nocy hałas na deptaku i z drugiej strony hotelu nieustanny warkot przejeżdzających samochodow . Zupełny brak intymności . Nie da się spać z powodu nie tylko hałasu lecz przede wszystkim super niewygodnych , miekkich materacy , spakulonych poduszek , itp . Poza tym pokój o . k . Szkoda , że nie ma lodóweczki . Obsługa natomiast niezadowalajaca , w recepcji najczęściej pusto , a jak już zjawi się panienka to odpowiada od niechcenia . Kuchnia pod wszelką krytyką , na sniadania ciągle to samo , do znudzenia , w restauracji kelnerom zdarza się zapomnieć podać zamówione danie , a szef kuchni , jezeli taki jest ! to tragedia !",
         "1"
        ]
       ],
       "shape": {
        "columns": 2,
        "rows": 2
       }
      },
      "text/html": [
       "<div>\n",
       "<style scoped>\n",
       "    .dataframe tbody tr th:only-of-type {\n",
       "        vertical-align: middle;\n",
       "    }\n",
       "\n",
       "    .dataframe tbody tr th {\n",
       "        vertical-align: top;\n",
       "    }\n",
       "\n",
       "    .dataframe thead th {\n",
       "        text-align: right;\n",
       "    }\n",
       "</style>\n",
       "<table border=\"1\" class=\"dataframe\">\n",
       "  <thead>\n",
       "    <tr style=\"text-align: right;\">\n",
       "      <th></th>\n",
       "      <th>sentence</th>\n",
       "      <th>target</th>\n",
       "    </tr>\n",
       "  </thead>\n",
       "  <tbody>\n",
       "    <tr>\n",
       "      <th>0</th>\n",
       "      <td>Okropnosc ! Myślę , że ludzia którzy cenią sob...</td>\n",
       "      <td>1</td>\n",
       "    </tr>\n",
       "    <tr>\n",
       "      <th>1</th>\n",
       "      <td>Być może w ubiegłych latach było tu fajnie , a...</td>\n",
       "      <td>1</td>\n",
       "    </tr>\n",
       "  </tbody>\n",
       "</table>\n",
       "</div>"
      ],
      "text/plain": [
       "                                            sentence  target\n",
       "0  Okropnosc ! Myślę , że ludzia którzy cenią sob...       1\n",
       "1  Być może w ubiegłych latach było tu fajnie , a...       1"
      ]
     },
     "metadata": {},
     "output_type": "display_data"
    },
    {
     "name": "stdout",
     "output_type": "stream",
     "text": [
      "\n",
      "PSC DataFrame:\n",
      "<class 'pandas.core.frame.DataFrame'>\n",
      "RangeIndex: 50 entries, 0 to 49\n",
      "Data columns (total 3 columns):\n",
      " #   Column        Non-Null Count  Dtype \n",
      "---  ------        --------------  ----- \n",
      " 0   extract_text  50 non-null     object\n",
      " 1   summary_text  50 non-null     object\n",
      " 2   label         50 non-null     int64 \n",
      "dtypes: int64(1), object(2)\n",
      "memory usage: 1.3+ KB\n",
      "None\n"
     ]
    },
    {
     "data": {
      "application/vnd.microsoft.datawrangler.viewer.v0+json": {
       "columns": [
        {
         "name": "index",
         "rawType": "int64",
         "type": "integer"
        },
        {
         "name": "extract_text",
         "rawType": "object",
         "type": "string"
        },
        {
         "name": "summary_text",
         "rawType": "object",
         "type": "string"
        },
        {
         "name": "label",
         "rawType": "int64",
         "type": "integer"
        }
       ],
       "conversionMethod": "pd.DataFrame",
       "ref": "31289b98-646e-4edb-80fd-09a1dd52bdad",
       "rows": [
        [
         "0",
         "Eksperci oraz przedstawiciele firm i rządów są niemal jednomyślni - dzięki wielomiesięcznym przygotowaniom Problem Roku 2000 nie powinien spowodować żadnych katastrofalnych zdarzeń. ogłoszony przed kilku dniami raport Międzynarodowego Centrum Koordynacyjnego Problemu Roku 2000 utrzymany jest w tonie ostrożnie optymistycznym. Zdecydowana większość organizacji na całym świecie odczuje jedynie niewielkie skutki działania pluskwy milenijnej.",
         "Zdaniem ekspertów oraz przedstawicieli firm i rządów dzięki długim przygotowaniom Problem Roku 2000 nie powinien spowodować katastrofalnych wydarzeń. Są jednak powody, by nie do końca wierzyć tym zapewnieniom. Jak będzie, czas pokaże. W najlepszej sytuacji są Amerykanie, którzy będą obserwowali powitanie roku w innych częściach świata, co pozwoli im szybko przygotować się na potencjalne zagrożenia.",
         "1"
        ],
        [
         "1",
         "Decyzja rządu o zmniejszeniu Wojska Polskiego do 150 tysięcy żołnierzy nie jest przypadkowa. Dojrzewała wiele lat i dla znających głębiej problemy gospodarki oraz ich wpływ na siły zbrojne nie jest żadnym zaskoczeniem. Stan sił zbrojnych jest rzeczywiście fatalny. Konieczna jest gruntowna przebudowa Wojska Polskiego. Konieczne stało się opracowanie takich zmian, które chociaż na jakiś czas ustabilizują funkcje, zadania i struktury w resorcie obrony narodowej.",
         "Na styczeń planowana jest podwyżka cen i stawek VAT na prąd i gaz oraz akcyzy na benzynę. Prawdopodobnie odbije się ona na rentowności sprzedaży, co z kolei wpłynie na zmniejszenie nakładów na rozbudowę firm. Przedstawiciele zakładów obawiają się o osłabienie konkurencyjności polskich firm. Podwyżki będą najbardziej bolesne dla firm stosujących energochłonne maszyny. Najlepiej zniosą je firmy, które od lat inwestują w rozwój i stawiają na oszczędności w funkcjonowaniu.",
         "0"
        ]
       ],
       "shape": {
        "columns": 3,
        "rows": 2
       }
      },
      "text/html": [
       "<div>\n",
       "<style scoped>\n",
       "    .dataframe tbody tr th:only-of-type {\n",
       "        vertical-align: middle;\n",
       "    }\n",
       "\n",
       "    .dataframe tbody tr th {\n",
       "        vertical-align: top;\n",
       "    }\n",
       "\n",
       "    .dataframe thead th {\n",
       "        text-align: right;\n",
       "    }\n",
       "</style>\n",
       "<table border=\"1\" class=\"dataframe\">\n",
       "  <thead>\n",
       "    <tr style=\"text-align: right;\">\n",
       "      <th></th>\n",
       "      <th>extract_text</th>\n",
       "      <th>summary_text</th>\n",
       "      <th>label</th>\n",
       "    </tr>\n",
       "  </thead>\n",
       "  <tbody>\n",
       "    <tr>\n",
       "      <th>0</th>\n",
       "      <td>Eksperci oraz przedstawiciele firm i rządów są...</td>\n",
       "      <td>Zdaniem ekspertów oraz przedstawicieli firm i ...</td>\n",
       "      <td>1</td>\n",
       "    </tr>\n",
       "    <tr>\n",
       "      <th>1</th>\n",
       "      <td>Decyzja rządu o zmniejszeniu Wojska Polskiego ...</td>\n",
       "      <td>Na styczeń planowana jest podwyżka cen i stawe...</td>\n",
       "      <td>0</td>\n",
       "    </tr>\n",
       "  </tbody>\n",
       "</table>\n",
       "</div>"
      ],
      "text/plain": [
       "                                        extract_text  \\\n",
       "0  Eksperci oraz przedstawiciele firm i rządów są...   \n",
       "1  Decyzja rządu o zmniejszeniu Wojska Polskiego ...   \n",
       "\n",
       "                                        summary_text  label  \n",
       "0  Zdaniem ekspertów oraz przedstawicieli firm i ...      1  \n",
       "1  Na styczeń planowana jest podwyżka cen i stawe...      0  "
      ]
     },
     "metadata": {},
     "output_type": "display_data"
    },
    {
     "name": "stdout",
     "output_type": "stream",
     "text": [
      "\n",
      "CDSC DataFrame:\n",
      "<class 'pandas.core.frame.DataFrame'>\n",
      "RangeIndex: 50 entries, 0 to 49\n",
      "Data columns (total 4 columns):\n",
      " #   Column               Non-Null Count  Dtype \n",
      "---  ------               --------------  ----- \n",
      " 0   pair_ID              50 non-null     int64 \n",
      " 1   sentence_A           50 non-null     object\n",
      " 2   sentence_B           50 non-null     object\n",
      " 3   entailment_judgment  50 non-null     int64 \n",
      "dtypes: int64(2), object(2)\n",
      "memory usage: 1.7+ KB\n",
      "None\n"
     ]
    },
    {
     "data": {
      "application/vnd.microsoft.datawrangler.viewer.v0+json": {
       "columns": [
        {
         "name": "index",
         "rawType": "int64",
         "type": "integer"
        },
        {
         "name": "pair_ID",
         "rawType": "int64",
         "type": "integer"
        },
        {
         "name": "sentence_A",
         "rawType": "object",
         "type": "string"
        },
        {
         "name": "sentence_B",
         "rawType": "object",
         "type": "string"
        },
        {
         "name": "entailment_judgment",
         "rawType": "int64",
         "type": "integer"
        }
       ],
       "conversionMethod": "pd.DataFrame",
       "ref": "57356c3d-70c0-428a-8045-d64bca1654b8",
       "rows": [
        [
         "0",
         "3094",
         "Chłopak w okularach patrzy na telefon komórkowy , trzymając w ręce plastikowy kubek z napojem .",
         "Chłopak w okularach patrzy na telefon komórkowy , trzymając w uniesionej do góry ręce plastikowy kubek z napojem .",
         "1"
        ],
        [
         "1",
         "493",
         "Kilka osób przemierza zaśnieżony teren niedaleko górskich wzniesień .",
         "Cztery osoby idą po głębokim śniegu w górach .",
         "1"
        ]
       ],
       "shape": {
        "columns": 4,
        "rows": 2
       }
      },
      "text/html": [
       "<div>\n",
       "<style scoped>\n",
       "    .dataframe tbody tr th:only-of-type {\n",
       "        vertical-align: middle;\n",
       "    }\n",
       "\n",
       "    .dataframe tbody tr th {\n",
       "        vertical-align: top;\n",
       "    }\n",
       "\n",
       "    .dataframe thead th {\n",
       "        text-align: right;\n",
       "    }\n",
       "</style>\n",
       "<table border=\"1\" class=\"dataframe\">\n",
       "  <thead>\n",
       "    <tr style=\"text-align: right;\">\n",
       "      <th></th>\n",
       "      <th>pair_ID</th>\n",
       "      <th>sentence_A</th>\n",
       "      <th>sentence_B</th>\n",
       "      <th>entailment_judgment</th>\n",
       "    </tr>\n",
       "  </thead>\n",
       "  <tbody>\n",
       "    <tr>\n",
       "      <th>0</th>\n",
       "      <td>3094</td>\n",
       "      <td>Chłopak w okularach patrzy na telefon komórkow...</td>\n",
       "      <td>Chłopak w okularach patrzy na telefon komórkow...</td>\n",
       "      <td>1</td>\n",
       "    </tr>\n",
       "    <tr>\n",
       "      <th>1</th>\n",
       "      <td>493</td>\n",
       "      <td>Kilka osób przemierza zaśnieżony teren niedale...</td>\n",
       "      <td>Cztery osoby idą po głębokim śniegu w górach .</td>\n",
       "      <td>1</td>\n",
       "    </tr>\n",
       "  </tbody>\n",
       "</table>\n",
       "</div>"
      ],
      "text/plain": [
       "   pair_ID                                         sentence_A  \\\n",
       "0     3094  Chłopak w okularach patrzy na telefon komórkow...   \n",
       "1      493  Kilka osób przemierza zaśnieżony teren niedale...   \n",
       "\n",
       "                                          sentence_B  entailment_judgment  \n",
       "0  Chłopak w okularach patrzy na telefon komórkow...                    1  \n",
       "1     Cztery osoby idą po głębokim śniegu w górach .                    1  "
      ]
     },
     "metadata": {},
     "output_type": "display_data"
    }
   ],
   "source": [
    "# Convert sampled datasets to pandas DataFrames\n",
    "dataframes = {}\n",
    "\n",
    "for name, dataset in evaluation_datasets.items():\n",
    "    dataframes[name] = loader.dataset_to_pandas(dataset)\n",
    "    \n",
    "    print(f\"\\n{name.upper()} DataFrame:\")\n",
    "    print(dataframes[name].info())\n",
    "    display(dataframes[name].head(2))"
   ]
  },
  {
   "cell_type": "markdown",
   "metadata": {},
   "source": [
    "## 9. Prepare Combined Dataset for Model Evaluation\n",
    "\n",
    "Finally, let's demonstrate how to use the helper function to prepare a dataset for model evaluation."
   ]
  },
  {
   "cell_type": "code",
   "execution_count": 11,
   "metadata": {},
   "outputs": [
    {
     "name": "stderr",
     "output_type": "stream",
     "text": [
      "2025-03-18 17:25:52,989 - src.datasets - INFO - PolishDatasetLoader initialized with seed 42\n",
      "2025-03-18 17:25:52,990 - src.datasets - INFO - Loading dataset: dyk (allegro/klej-dyk)\n",
      "2025-03-18 17:25:55,103 - src.datasets - INFO - Columns found in dyk: q_id, question, answer, target\n",
      "2025-03-18 17:25:55,122 - src.datasets - INFO - Successfully loaded dyk\n",
      "2025-03-18 17:25:55,125 - src.datasets - INFO - Sampled 75 examples from dyk (test split)\n",
      "2025-03-18 17:25:55,125 - src.datasets - INFO - Loading dataset: polemo2 (allegro/klej-polemo2-in)\n",
      "2025-03-18 17:25:56,594 - src.datasets - INFO - Columns found in polemo2: sentence, target\n",
      "2025-03-18 17:25:56,605 - src.datasets - INFO - Successfully loaded polemo2\n",
      "2025-03-18 17:25:56,606 - src.datasets - INFO - Sampled 100 examples from polemo2 (test split)\n",
      "2025-03-18 17:25:56,607 - src.datasets - INFO - Loading dataset: psc (allegro/klej-psc)\n",
      "2025-03-18 17:25:58,535 - src.datasets - INFO - Columns found in psc: extract_text, summary_text, label\n",
      "2025-03-18 17:25:58,553 - src.datasets - INFO - Successfully loaded psc\n",
      "2025-03-18 17:25:58,555 - src.datasets - INFO - Sampled 50 examples from psc (test split)\n",
      "2025-03-18 17:25:58,555 - src.datasets - INFO - Loading dataset: cdsc (allegro/klej-cdsc-e)\n",
      "2025-03-18 17:26:00,379 - src.datasets - INFO - Columns found in cdsc: pair_ID, sentence_A, sentence_B, entailment_judgment\n",
      "2025-03-18 17:26:00,390 - src.datasets - INFO - Successfully loaded cdsc\n",
      "2025-03-18 17:26:00,391 - src.datasets - INFO - Sampled 75 examples from cdsc (test split)\n"
     ]
    },
    {
     "name": "stdout",
     "output_type": "stream",
     "text": [
      "Evaluation datasets prepared with the following sizes:\n",
      "  dyk: 75 examples\n",
      "  polemo2: 100 examples\n",
      "  psc: 50 examples\n",
      "  cdsc: 75 examples\n"
     ]
    }
   ],
   "source": [
    "# Prepare datasets for evaluation with custom sample sizes\n",
    "custom_samples = {\n",
    "    'dyk': 75,\n",
    "    'polemo2': 100,\n",
    "    'psc': 50,\n",
    "    'cdsc': 75\n",
    "}\n",
    "\n",
    "eval_datasets = prepare_datasets_for_evaluation(\n",
    "    samples_per_dataset=custom_samples,\n",
    "    cache_dir=cache_dir,\n",
    "    split='test',\n",
    "    seed=42\n",
    ")\n",
    "\n",
    "print(\"Evaluation datasets prepared with the following sizes:\")\n",
    "for name, dataset in eval_datasets.items():\n",
    "    print(f\"  {name}: {len(dataset)} examples\")"
   ]
  },
  {
   "cell_type": "markdown",
   "metadata": {},
   "source": [
    "## 10. Conclusion\n",
    "\n",
    "In this notebook, we have demonstrated how to use the dataset preparation module for Polish language model evaluation. The key functionalities include:\n",
    "\n",
    "1. Loading datasets from the KLEJ benchmark\n",
    "2. Exploring dataset statistics and class distributions\n",
    "3. Sampling balanced datasets with a configurable number of examples\n",
    "4. Converting datasets to pandas DataFrames for further analysis\n",
    "5. Preparing combined evaluation datasets\n",
    "\n",
    "These evaluation datasets can now be used to evaluate the performance of different Polish language models as specified in the project requirements."
   ]
  }
 ],
 "metadata": {
  "kernelspec": {
   "display_name": ".venv",
   "language": "python",
   "name": "python3"
  },
  "language_info": {
   "codemirror_mode": {
    "name": "ipython",
    "version": 3
   },
   "file_extension": ".py",
   "mimetype": "text/x-python",
   "name": "python",
   "nbconvert_exporter": "python",
   "pygments_lexer": "ipython3",
   "version": "3.12.4"
  }
 },
 "nbformat": 4,
 "nbformat_minor": 4
}
