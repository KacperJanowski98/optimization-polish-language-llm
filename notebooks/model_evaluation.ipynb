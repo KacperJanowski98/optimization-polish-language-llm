{
 "cells": [
  {
   "cell_type": "markdown",
   "metadata": {},
   "source": [
    "# Polish Language Model Evaluation\n",
    "\n",
    "This notebook evaluates four language models on Polish language tasks:\n",
    "\n",
    "1. **Bielik-11B-v2.3-Instruct** - A specialized Polish language model\n",
    "2. **Google Gemma-3-4B-IT** - A multilingual model\n",
    "3. **Microsoft Phi-4-mini-instruct** - A multilingual model\n",
    "4. **CYFRAGOVPL/Llama-PLLuM-8B-instruct** - Polish government-backed Llama-based model\n",
    "\n",
    "We will compare their performance on several Polish language benchmark datasets from the KLEJ benchmark."
   ]
  },
  {
   "cell_type": "markdown",
   "metadata": {},
   "source": [
    "## Environment Setup\n",
    "\n",
    "First, we'll set up the environment and check that all requirements are met."
   ]
  },
  {
   "cell_type": "code",
   "execution_count": 1,
   "metadata": {},
   "outputs": [],
   "source": [
    "import os\n",
    "import sys\n",
    "import logging\n",
    "import torch\n",
    "import pandas as pd\n",
    "import matplotlib.pyplot as plt\n",
    "import seaborn as sns\n",
    "import json\n",
    "import glob\n",
    "from pathlib import Path\n",
    "\n",
    "# Add project root to path for imports\n",
    "sys.path.append('..')\n",
    "\n",
    "# Set up logging\n",
    "logging.basicConfig(\n",
    "    level=logging.INFO,\n",
    "    format='%(asctime)s - %(name)s - %(levelname)s - %(message)s'\n",
    ")\n",
    "logger = logging.getLogger('model_evaluation')\n",
    "\n",
    "# Create results directory if it doesn't exist\n",
    "os.makedirs('../results', exist_ok=True)"
   ]
  },
  {
   "cell_type": "code",
   "execution_count": 2,
   "metadata": {},
   "outputs": [
    {
     "name": "stdout",
     "output_type": "stream",
     "text": [
      "Using GPU: NVIDIA GeForce RTX 4060\n",
      "Total memory: 8.19 GB\n",
      "CUDA capability: 8.9\n"
     ]
    }
   ],
   "source": [
    "# Check if GPU is available\n",
    "if torch.cuda.is_available():\n",
    "    device = torch.device(\"cuda\")\n",
    "    print(f\"Using GPU: {torch.cuda.get_device_name(0)}\")\n",
    "    # Print GPU memory info\n",
    "    gpu_properties = torch.cuda.get_device_properties(0)\n",
    "    print(f\"Total memory: {gpu_properties.total_memory / 1e9:.2f} GB\")\n",
    "    print(f\"CUDA capability: {gpu_properties.major}.{gpu_properties.minor}\")\n",
    "else:\n",
    "    device = torch.device(\"cpu\")\n",
    "    print(\"No GPU available. Using CPU (this will be very slow for large models).\")"
   ]
  },
  {
   "cell_type": "code",
   "execution_count": 3,
   "metadata": {},
   "outputs": [
    {
     "name": "stderr",
     "output_type": "stream",
     "text": [
      "2025-03-20 11:57:23,086 - datasets - INFO - PyTorch version 2.6.0+cu118 available.\n"
     ]
    }
   ],
   "source": [
    "# Import project modules\n",
    "from src.utils import check_environment_setup, optimize_memory, check_gpu_compatibility\n",
    "from src.datasets import PolishDatasetLoader, prepare_datasets_for_evaluation\n",
    "from src.init_models import setup_huggingface_auth, initialize_model, MODEL_CONFIGS\n",
    "from src.evaluation import run_evaluation, aggregate_results, visualize_results, generate_summary_report, save_results"
   ]
  },
  {
   "cell_type": "code",
   "execution_count": 4,
   "metadata": {},
   "outputs": [
    {
     "name": "stderr",
     "output_type": "stream",
     "text": [
      "2025-03-20 11:57:25,863 - src.utils - INFO - Found GPU: NVIDIA GeForce RTX 4060\n",
      "2025-03-20 11:57:25,864 - src.utils - INFO - CUDA Version: 11.8\n",
      "2025-03-20 11:57:25,864 - src.utils - INFO - Total GPU memory: 8.19 GB\n",
      "2025-03-20 11:57:25,864 - src.utils - INFO - Reserved GPU memory: 0.00 GB\n",
      "2025-03-20 11:57:25,865 - src.utils - INFO - Allocated GPU memory: 0.00 GB\n",
      "2025-03-20 11:57:25,865 - src.utils - INFO - Available GPU memory: 8.19 GB\n"
     ]
    },
    {
     "name": "stdout",
     "output_type": "stream",
     "text": [
      "Environment setup looks good!\n"
     ]
    }
   ],
   "source": [
    "# Check environment setup\n",
    "setup_ok = check_environment_setup()\n",
    "if not setup_ok:\n",
    "    print(\"There are issues with your environment setup. See warnings above.\")\n",
    "else:\n",
    "    print(\"Environment setup looks good!\")"
   ]
  },
  {
   "cell_type": "markdown",
   "metadata": {},
   "source": [
    "## Model Size and Memory Requirements\n",
    "\n",
    "Let's check the memory requirements for each model to determine the best loading strategy."
   ]
  },
  {
   "cell_type": "code",
   "execution_count": 5,
   "metadata": {},
   "outputs": [
    {
     "name": "stdout",
     "output_type": "stream",
     "text": [
      "\n",
      "BIELIK - speakleash/Bielik-11B-v2.3-Instruct\n",
      "Size: 11B parameters\n",
      "Recommend loading in 4-bit precision. Required: 5.50 GB, Available: 8.19 GB\n",
      "\n",
      "GEMMA - google/gemma-3-4b-it\n",
      "Size: 4B parameters\n",
      "Can load in FP16 precision. Required: 8.00 GB, Available: 8.19 GB\n",
      "\n",
      "PHI - microsoft/Phi-4-mini-instruct\n",
      "Size: 3.8B parameters\n",
      "Can load in FP16 precision. Required: 7.60 GB, Available: 8.19 GB\n",
      "\n",
      "PLLUM - CYFRAGOVPL/Llama-PLLuM-8B-instruct\n",
      "Size: 8B parameters\n",
      "Recommend loading in 8-bit precision. Required: 8.00 GB, Available: 8.19 GB\n"
     ]
    }
   ],
   "source": [
    "# Display model size information and memory requirements\n",
    "model_sizes = {\n",
    "    'bielik': 11,    # 11B parameters\n",
    "    'gemma': 4,      # 4B parameters\n",
    "    'phi': 3.8,      # 3.8B parameters (approximate)\n",
    "    'pllum': 8       # 8B parameters\n",
    "}\n",
    "\n",
    "for model_key, size in model_sizes.items():\n",
    "    print(f\"\\n{model_key.upper()} - {MODEL_CONFIGS[model_key]['model_id']}\")\n",
    "    print(f\"Size: {size}B parameters\")\n",
    "    print(check_gpu_compatibility(size))"
   ]
  },
  {
   "cell_type": "markdown",
   "metadata": {},
   "source": [
    "## Load Datasets\n",
    "\n",
    "Now, let's load the Polish language datasets for evaluation."
   ]
  },
  {
   "cell_type": "code",
   "execution_count": null,
   "metadata": {},
   "outputs": [],
   "source": [
    "# Set up Hugging Face authentication\n",
    "setup_huggingface_auth()"
   ]
  },
  {
   "cell_type": "code",
   "execution_count": 7,
   "metadata": {},
   "outputs": [
    {
     "name": "stderr",
     "output_type": "stream",
     "text": [
      "2025-03-20 11:57:34,984 - src.datasets - INFO - PolishDatasetLoader initialized with seed 42\n"
     ]
    }
   ],
   "source": [
    "# Create dataset loader\n",
    "dataset_loader = PolishDatasetLoader(cache_dir='../data')"
   ]
  },
  {
   "cell_type": "code",
   "execution_count": 8,
   "metadata": {},
   "outputs": [
    {
     "name": "stderr",
     "output_type": "stream",
     "text": [
      "2025-03-20 11:57:36,552 - src.datasets - INFO - Loading dataset: dyk (allegro/klej-dyk)\n",
      "2025-03-20 11:57:39,060 - src.datasets - INFO - Columns found in dyk: q_id, question, answer, target\n",
      "2025-03-20 11:57:39,065 - src.datasets - INFO - Successfully loaded dyk\n",
      "2025-03-20 11:57:39,067 - src.datasets - INFO - Sampled 50 examples from dyk (test split)\n",
      "2025-03-20 11:57:39,067 - src.datasets - INFO - Loading dataset: polemo2 (allegro/klej-polemo2-in)\n",
      "2025-03-20 11:57:44,387 - src.datasets - INFO - Columns found in polemo2: sentence, target\n",
      "2025-03-20 11:57:44,395 - src.datasets - INFO - Successfully loaded polemo2\n",
      "2025-03-20 11:57:44,398 - src.datasets - INFO - Sampled 50 examples from polemo2 (test split)\n",
      "2025-03-20 11:57:44,399 - src.datasets - INFO - Loading dataset: psc (allegro/klej-psc)\n",
      "2025-03-20 11:57:46,220 - src.datasets - INFO - Columns found in psc: extract_text, summary_text, label\n",
      "2025-03-20 11:57:46,229 - src.datasets - INFO - Successfully loaded psc\n",
      "2025-03-20 11:57:46,231 - src.datasets - INFO - Sampled 50 examples from psc (test split)\n",
      "2025-03-20 11:57:46,231 - src.datasets - INFO - Loading dataset: cdsc (allegro/klej-cdsc-e)\n",
      "2025-03-20 11:57:48,349 - src.datasets - INFO - Columns found in cdsc: pair_ID, sentence_A, sentence_B, entailment_judgment\n",
      "2025-03-20 11:57:48,359 - src.datasets - INFO - Successfully loaded cdsc\n",
      "2025-03-20 11:57:48,361 - src.datasets - INFO - Sampled 50 examples from cdsc (test split)\n"
     ]
    }
   ],
   "source": [
    "# Define number of samples per dataset (adjust based on your needs and time constraints)\n",
    "samples_per_dataset = {\n",
    "    'dyk': 50,      # Question-answer correctness\n",
    "    'polemo2': 50,  # Sentiment analysis\n",
    "    'psc': 50,      # Text similarity\n",
    "    'cdsc': 50      # Entailment\n",
    "}\n",
    "\n",
    "# Load and sample datasets\n",
    "evaluation_datasets = dataset_loader.create_evaluation_dataset(\n",
    "    samples_per_dataset=samples_per_dataset,\n",
    "    split='test'\n",
    ")"
   ]
  },
  {
   "cell_type": "markdown",
   "metadata": {},
   "source": [
    "### Examine Dataset Examples\n",
    "\n",
    "Let's look at a few examples from each dataset to understand the tasks better."
   ]
  },
  {
   "cell_type": "code",
   "execution_count": 9,
   "metadata": {},
   "outputs": [
    {
     "name": "stdout",
     "output_type": "stream",
     "text": [
      "Example 1\n",
      "Question: co według legendy było bezpośrednią przyczyną wybuchu powstania pod wodzą Lucjusza Juniusza Brutusa, które doprowadziło do obalenia rzymskiej monarchii i powołania republiki?\n",
      "Answer: Pod jego nieobecność została zgwałcona przez Sekstusa Tarkwiniusza, syna Tarkwiniusza Pysznego. O czynie tym powiadomiła swojego męża, kazała mu poprzysiąc zemstę, a następnie popełniła samobójstwo. Według legendy jej krzywda miała stać się bezpośrednią przyczyną wybuchu powstania pod wodzą Lucjusza Juniusza Brutusa.\n",
      "Target: 1\n",
      "---\n",
      "Example 2\n",
      "Question: co zainspirowało narodziny filmu więziennego?\n",
      "Answer: Film więzienny narodził się w kinie amerykańskim lat 30. XX wieku. Jego powstanie zainspirowały głośne bunty, które miały miejsce latem 1929 roku w zakładach karnych w Dannemora i Auburn (oba w stanie Nowy Jork).\n",
      "Target: 1\n",
      "---\n",
      "Example 3\n",
      "Question: który portugalski generał, szef Sztabu Generalnego w latach 1974–1976, był prezydentem Portugalii?\n",
      "Answer: 1961-1965 i 1969-1974 był przedstawicielem Sztabu Generalnego WP w Sztabie Zjednoczonych Sił Zbrojnych Państw-Stron Układu Warszawskiego, 1965-1969 pracował w Inspektoracie MON. Jesienią 1968 mianowany generałem brygady; nominację wręczył mu w Belwederze przewodniczący Rady Państwa PRL Marian Spychalski w obecności szefa PZPR Władysława Gomułki. 1975-1976 szef sztabu - zastępca dowódcy Warszawskiego Okręgu Wojskowego.\n",
      "Target: 0\n",
      "---\n"
     ]
    }
   ],
   "source": [
    "# View examples from DYK dataset\n",
    "dyk_examples = evaluation_datasets['dyk'].select(range(3))\n",
    "for i, example in enumerate(dyk_examples):\n",
    "    print(f\"Example {i+1}\")\n",
    "    print(f\"Question: {example['question']}\")\n",
    "    print(f\"Answer: {example['answer']}\")\n",
    "    print(f\"Target: {example['target']}\")\n",
    "    print(\"---\")"
   ]
  },
  {
   "cell_type": "code",
   "execution_count": 10,
   "metadata": {},
   "outputs": [
    {
     "name": "stdout",
     "output_type": "stream",
     "text": [
      "Example 1\n",
      "Sentence: Jakie związki czynne zawierały leki wykorzystywane w Rzeczypospolitej od XVI do XVIII wieku ? Czy terapeutyki były wystarczająco aktywne biologicznie , żeby działać na dolegliwości , które nękały ówczesnych pacjentów ? Łączone badania historyczne i laboratoryjne przeprowadzi zespół pod kierownictwem dr . Jakuba Węglorza z Wydziału Nauk Historycznych i Pedagogicznych Uniwersytetu Wrocławskiego . Projekt otrzymał 1 , 57 mln zł ze środków programu Sonata Bis Narodowego Centrum Nauki . Przedmiotem badań historycznych będą staropolskie pamiętniki , listy , diariusze i prywatne notatki . Historycy wybiorą z nich informacje o stosowanych wówczas lekach . Następnie zidentyfikują owe terapeutyki i szczegółowo opiszą na podstawie medycznych źródeł historycznych : receptariuszy i kompendiów . Tak uzyskane recepty będą podstawą do szczegółowego odtworzenia dawnych medykamentów .\n",
      "Target: 3\n",
      "---\n",
      "Example 2\n",
      "Sentence: Jest to osoba , która potrafi w trakcie procesu diagnostycznego połączyć dane czysto teoretyczne i swoje doświadczenie życiowe , a diagnoza nie jest jedynie medycznym terminem ale wynikiem głębokiej analizy ( coś znaczy dla pacjenta ) . Nie tylko umie słuchać , umie radzić przed czym tak bardzo bronią się inni lekarze psychiatrzy nie chcąc brać odpowiedzialności za nasze decyzje . Decyzje są nasze ale jej wskazówki w momencie kiedy stoimy w miejscu i nie potrafimy postawić kroku albo boimy się nabrać powietrza w płuca są bezcenne . Samo spróbuj daje nadzieję , bo wiesz , że jest ktoś kto stoi obok i pomoże . Mi pomogła bardzo , dzięki jej profesjonalnej ale także czysto \" ludzkiej \" postawie mam odwagę nie tylko stawiać nieśmiałe kroki ale nawet biec . Jeśli strach przed kolejnym wdechem strasznie was paraliżuje to jest ona właściwą osobą do której należy się udać . Chyba najbardziej cenię jej \" życiowe \" podejście do problemu ogarniające całość obrazu w szerszym kontekście tak jakby stojąc w dolinie ( czasem mając tylko strzępy informacji ) miała zdolność oceny , której inni nie mając będąc na szcycie góry ( mając setki stron dokumentacji ) . Podziwiam ją a jednocześnie niezwykle cenię jako lekarza .\n",
      "Target: 2\n",
      "---\n",
      "Example 3\n",
      "Sentence: Hotel o średnim standardzie . Pokoje z klimatyzacją i WIFI . Jedzenie szwedzki stół - dobre . Basen bardzo przyjemny , woda czysta chociaż zimna . Personel przyjemny i pomocny . l to wszystko co dobre . Morze ok 200 m od hotelu ciągle burzliwe , kąpanie utrudnione ze względu śliskie kamienie pokryte glonami . Plaży nie ma wcale , to jest brzeg morza . Do Agi Apostoła ok 2 km tak więc iść wieczorem ruchliwą drogą bez chodnika ba bez poboczy - niebezpieczne . Nie polecam tego hotelu na dłuższy wakacyjny pobyt .\n",
      "Target: 0\n",
      "---\n"
     ]
    }
   ],
   "source": [
    "# View examples from POLEMO dataset\n",
    "polemo_examples = evaluation_datasets['polemo2'].select(range(3))\n",
    "for i, example in enumerate(polemo_examples):\n",
    "    print(f\"Example {i+1}\")\n",
    "    print(f\"Sentence: {example['sentence']}\")\n",
    "    print(f\"Target: {example['target']}\")\n",
    "    print(\"---\")"
   ]
  },
  {
   "cell_type": "code",
   "execution_count": 11,
   "metadata": {},
   "outputs": [
    {
     "name": "stdout",
     "output_type": "stream",
     "text": [
      "Example 1\n",
      "Extract Text: odnotowywanie wątpliwości co do rzeczywistej treści opracowywanego przez tłumacza pisma dotyczy jedynie tych wypadków, w których mógł on powziąć takie wątpliwości tylko na podstawie swego przeciętnego...\n",
      "Summary Text: Tłumacz przysięgły uprawniony jest do sporządzania, sprawdzania i poświadczania tłumaczeń oraz sporządzania odpisów pism w języku, dla którego został ustanowiony. Od tłumacza może być także wymagana ocena autentyczności dokumentu zgodnie z jego moralnymi i fachowymi kwalifikacjami. Wiele fałszerstw może być odkrytych bez specjalistycznego sprzętu. Rozwój międzynarodowego handlu i ilości dokumentów wymaga także standaryzacji w zakresie ich przygotowania i oceny autentyczności.\n",
      "Label: 1\n",
      "---\n",
      "Example 2\n",
      "Extract Text: propozycje SLD dotyczące polityki zatrudnienia i walki z bezrobociem rażą pustosłowiem, a tam, gdzie proponują coś konkretnego, są najczęściej albo szkodliwe, albo nieskuteczne. To, nad czym można by ...\n",
      "Summary Text: Doszło do konfliktu pomiędzy Agencją Restrukturyzacji i Modernizacji Rolnictwa a firmą Hewlett-Packard w związku ze zbudowaniem programu Zintegrowanego Systemu Zarządzania i Kontroli (IACS) i jego późniejszym serwisowaniem. ARiMR postawiła nowe żądania, posądzając HP o niewykonywanie umowy i niejasne kombinacje prawne. HP zaś broni się tym, że prace nad projektem są zaawansowane, a Agencja szantażuje firmę zerwaniem umowy.\n",
      "Label: 0\n",
      "---\n",
      "Example 3\n",
      "Extract Text: Miniprzeszczepy komórek krwiotwórczych są nadzieją w leczeniu chorób nowotworowych. w Jerozolimie W przewlekłych białaczka szpikowych jej skuteczność sięga 80 proc.W miniprzeszczepach używa się komóre...\n",
      "Summary Text: W tym roku pogorszyły się wyniki ekonomiczno-finansowe branży tłuszczowej, co jest spowodowane m.in. bardzo niską krajową produkcją rzepaku. Aby produkcja rzepaku wzrosła z obecnych 584,4 tys. ton do optymalnego poziomu 1,5 mln ton, potrzebne są różne formy promocji, np. przywrócenie systemu umów kontraktacyjnych, zaopatrywanie plantatorów w nasiona, nisko oprocentowane kredyty, doradztwo agrotechniczne.\n",
      "Label: 0\n",
      "---\n"
     ]
    }
   ],
   "source": [
    "# View examples from PSC dataset\n",
    "psc_examples = evaluation_datasets['psc'].select(range(3))\n",
    "for i, example in enumerate(psc_examples):\n",
    "    print(f\"Example {i+1}\")\n",
    "    print(f\"Extract Text: {example['extract_text'][:200]}...\")\n",
    "    print(f\"Summary Text: {example['summary_text']}\")\n",
    "    print(f\"Label: {example['label']}\")\n",
    "    print(\"---\")"
   ]
  },
  {
   "cell_type": "code",
   "execution_count": 12,
   "metadata": {},
   "outputs": [
    {
     "name": "stdout",
     "output_type": "stream",
     "text": [
      "Example 1\n",
      "Sentence A: Nikt nie skacze na trampolinie otoczonej ochronną siatką .\n",
      "Sentence B: Czworo dzieci skacze na trampolinie otoczonej ochronną siatką .\n",
      "Entailment: 0\n",
      "---\n",
      "Example 2\n",
      "Sentence A: Mężczyzna wspina się z asekuracją po pionowej skale .\n",
      "Sentence B: Mężczyzna przypięty do liny wspina się po stromej ścianie skalnej .\n",
      "Entailment: 1\n",
      "---\n",
      "Example 3\n",
      "Sentence A: Człowiek uprawia wspinaczkę .\n",
      "Sentence B: Człowiek uprawia wspinaczkę , asekurując się na linie .\n",
      "Entailment: 1\n",
      "---\n"
     ]
    }
   ],
   "source": [
    "# View examples from CDSC dataset\n",
    "cdsc_examples = evaluation_datasets['cdsc'].select(range(3))\n",
    "for i, example in enumerate(cdsc_examples):\n",
    "    print(f\"Example {i+1}\")\n",
    "    print(f\"Sentence A: {example['sentence_A']}\")\n",
    "    print(f\"Sentence B: {example['sentence_B']}\")\n",
    "    print(f\"Entailment: {example['entailment_judgment']}\")\n",
    "    print(\"---\")"
   ]
  },
  {
   "cell_type": "markdown",
   "metadata": {},
   "source": [
    "## Model Evaluation\n",
    "\n",
    "Now, let's evaluate each model on the datasets. This will take some time, especially for large models."
   ]
  },
  {
   "cell_type": "markdown",
   "metadata": {},
   "source": [
    "### Model 1: Bielik-11B-v2.3-Instruct"
   ]
  },
  {
   "cell_type": "code",
   "execution_count": null,
   "metadata": {},
   "outputs": [],
   "source": [
    "# Initialize Bielik model with CPU offloading\n",
    "print(\"Loading Bielik-11B model with CPU offloading and 4-bit quantization...\")\n",
    "bielik_model, bielik_tokenizer = initialize_model(\n",
    "    model_key='bielik',\n",
    "    device=\"cuda\",\n",
    "    load_in_8bit=False,\n",
    "    load_in_4bit=True,  # 4-bit quantization for memory efficiency\n",
    "    offload_to_cpu=True,  # Enable CPU offloading\n",
    "    cache_dir='../models'\n",
    ")"
   ]
  },
  {
   "cell_type": "code",
   "execution_count": null,
   "metadata": {},
   "outputs": [],
   "source": [
    "# Evaluate Bielik model\n",
    "bielik_results = run_evaluation(\n",
    "    model_key='bielik',\n",
    "    model=bielik_model,\n",
    "    tokenizer=bielik_tokenizer,\n",
    "    datasets=evaluation_datasets,\n",
    "    device=\"cuda\",\n",
    "    max_samples_per_dataset=None,  # Use all sampled examples\n",
    "    output_dir='../results'\n",
    ")"
   ]
  },
  {
   "cell_type": "code",
   "execution_count": null,
   "metadata": {},
   "outputs": [],
   "source": [
    "# Free up GPU memory\n",
    "del bielik_model\n",
    "del bielik_tokenizer\n",
    "optimize_memory()"
   ]
  },
  {
   "cell_type": "markdown",
   "metadata": {},
   "source": [
    "### Model 2: Google Gemma-3-4B-IT"
   ]
  },
  {
   "cell_type": "code",
   "execution_count": null,
   "metadata": {},
   "outputs": [],
   "source": [
    "# Initialize Gemma model\n",
    "print(\"Loading Gemma-3-4B model...\")\n",
    "gemma_model, gemma_tokenizer = initialize_model(\n",
    "    model_key='gemma',\n",
    "    device=\"cuda\",\n",
    "    load_in_8bit=False,\n",
    "    load_in_4bit=True,  # 4-bit quantization for memory efficiency\n",
    "    offload_to_cpu=True,  # Enable CPU offloading\n",
    "    cache_dir='../models'\n",
    ")"
   ]
  },
  {
   "cell_type": "code",
   "execution_count": null,
   "metadata": {},
   "outputs": [],
   "source": [
    "# Evaluate Gemma model\n",
    "gemma_results = run_evaluation(\n",
    "    model_key='gemma',\n",
    "    model=gemma_model,\n",
    "    tokenizer=gemma_tokenizer,\n",
    "    datasets=evaluation_datasets,\n",
    "    device=\"cuda\",\n",
    "    max_samples_per_dataset=None,\n",
    "    output_dir='../results'\n",
    ")"
   ]
  },
  {
   "cell_type": "code",
   "execution_count": null,
   "metadata": {},
   "outputs": [],
   "source": [
    "# Free up GPU memory\n",
    "del gemma_model\n",
    "del gemma_tokenizer\n",
    "optimize_memory()"
   ]
  },
  {
   "cell_type": "markdown",
   "metadata": {},
   "source": [
    "### Model 3: Microsoft Phi-4-mini-instruct"
   ]
  },
  {
   "cell_type": "code",
   "execution_count": null,
   "metadata": {},
   "outputs": [],
   "source": [
    "# Initialize Phi model\n",
    "print(\"Loading Phi-4-mini model...\")\n",
    "phi_model, phi_tokenizer = initialize_model(\n",
    "    model_key='phi',\n",
    "    device=\"cuda\",\n",
    "    load_in_8bit=False,\n",
    "    load_in_4bit=True,  # 4-bit quantization for memory efficiency\n",
    "    offload_to_cpu=True,  # Enable CPU offloading\n",
    "    cache_dir='../models'\n",
    ")"
   ]
  },
  {
   "cell_type": "code",
   "execution_count": null,
   "metadata": {},
   "outputs": [],
   "source": [
    "# Evaluate Phi model\n",
    "phi_results = run_evaluation(\n",
    "    model_key='phi',\n",
    "    model=phi_model,\n",
    "    tokenizer=phi_tokenizer,\n",
    "    datasets=evaluation_datasets,\n",
    "    device=\"cuda\",\n",
    "    max_samples_per_dataset=None,\n",
    "    output_dir='../results'\n",
    ")"
   ]
  },
  {
   "cell_type": "code",
   "execution_count": null,
   "metadata": {},
   "outputs": [],
   "source": [
    "# Free up GPU memory\n",
    "del phi_model\n",
    "del phi_tokenizer\n",
    "optimize_memory()"
   ]
  },
  {
   "cell_type": "markdown",
   "metadata": {},
   "source": [
    "### Model 4: CYFRAGOVPL/Llama-PLLuM-8B-instruct"
   ]
  },
  {
   "cell_type": "code",
   "execution_count": null,
   "metadata": {},
   "outputs": [],
   "source": [
    "# Initialize PLLuM model\n",
    "print(\"Loading PLLuM-8B model...\")\n",
    "pllum_model, pllum_tokenizer = initialize_model(\n",
    "    model_key='pllum',\n",
    "    device=\"cuda\",\n",
    "    load_in_8bit=False,\n",
    "    load_in_4bit=True,  # 4-bit quantization for memory efficiency\n",
    "    offload_to_cpu=True,  # Enable CPU offloading\n",
    "    cache_dir='../models'\n",
    ")"
   ]
  },
  {
   "cell_type": "code",
   "execution_count": null,
   "metadata": {},
   "outputs": [],
   "source": [
    "# Evaluate PLLuM model\n",
    "pllum_results = run_evaluation(\n",
    "    model_key='pllum',\n",
    "    model=pllum_model,\n",
    "    tokenizer=pllum_tokenizer,\n",
    "    datasets=evaluation_datasets,\n",
    "    device=\"cuda\",\n",
    "    max_samples_per_dataset=None,\n",
    "    output_dir='../results'\n",
    ")"
   ]
  },
  {
   "cell_type": "code",
   "execution_count": null,
   "metadata": {},
   "outputs": [],
   "source": [
    "# Free up GPU memory\n",
    "del pllum_model\n",
    "del pllum_tokenizer\n",
    "optimize_memory()"
   ]
  },
  {
   "cell_type": "markdown",
   "metadata": {},
   "source": [
    "## Save Individual Model Results\n",
    "\n",
    "Let's save the individual model results to JSON files before clearing the variables."
   ]
  },
  {
   "cell_type": "code",
   "execution_count": null,
   "metadata": {},
   "outputs": [],
   "source": [
    "# Save individual model results\n",
    "def save_model_results(model_key, results, output_dir='../results'):\n",
    "    \"\"\"Save individual model results to a JSON file\"\"\"\n",
    "    os.makedirs(output_dir, exist_ok=True)\n",
    "    file_path = os.path.join(output_dir, f\"{model_key}_results.json\")\n",
    "    \n",
    "    with open(file_path, 'w', encoding='utf-8') as f:\n",
    "        json.dump(results, f, ensure_ascii=False, indent=2)\n",
    "    \n",
    "    print(f\"Results saved to {file_path}\")\n",
    "\n",
    "# Save results for each model\n",
    "try:\n",
    "    save_model_results('bielik', bielik_results)\n",
    "except NameError:\n",
    "    print(\"Bielik results not available\")\n",
    "    \n",
    "try:\n",
    "    save_model_results('gemma', gemma_results)\n",
    "except NameError:\n",
    "    print(\"Gemma results not available\")\n",
    "    \n",
    "try:\n",
    "    save_model_results('phi', phi_results)\n",
    "except NameError:\n",
    "    print(\"Phi results not available\")\n",
    "    \n",
    "try:\n",
    "    save_model_results('pllum', pllum_results)\n",
    "except NameError:\n",
    "    print(\"PLLuM results not available\")"
   ]
  },
  {
   "cell_type": "markdown",
   "metadata": {},
   "source": [
    "## Results Analysis\n",
    "\n",
    "Now let's analyze the results from the JSON files rather than in-memory variables."
   ]
  },
  {
   "cell_type": "code",
   "execution_count": 17,
   "metadata": {},
   "outputs": [
    {
     "name": "stdout",
     "output_type": "stream",
     "text": [
      "Loaded results for pllum from ../results/pllum_results.json\n",
      "Loaded results for bielik from ../results/bielik_results.json\n",
      "Loaded results for phi from ../results/phi_results.json\n",
      "Loaded results for gemma from ../results/gemma_results.json\n"
     ]
    }
   ],
   "source": [
    "# Function to load results from JSON files\n",
    "def load_results_from_files(results_dir='../results', pattern='*_results.json'):\n",
    "    \"\"\"Load model evaluation results from JSON files\"\"\"\n",
    "    results = {}\n",
    "    results_files = glob.glob(os.path.join(results_dir, pattern))\n",
    "    \n",
    "    if not results_files:\n",
    "        print(f\"No result files found matching {pattern} in {results_dir}\")\n",
    "        return results\n",
    "    \n",
    "    for file_path in results_files:\n",
    "        try:\n",
    "            model_key = os.path.basename(file_path).split('_')[0]\n",
    "            with open(file_path, 'r', encoding='utf-8') as f:\n",
    "                results[model_key] = json.load(f)\n",
    "            print(f\"Loaded results for {model_key} from {file_path}\")\n",
    "        except Exception as e:\n",
    "            print(f\"Error loading {file_path}: {e}\")\n",
    "    \n",
    "    return results\n",
    "\n",
    "# Load all results from JSON files\n",
    "all_results = load_results_from_files()"
   ]
  },
  {
   "cell_type": "code",
   "execution_count": 18,
   "metadata": {},
   "outputs": [
    {
     "name": "stdout",
     "output_type": "stream",
     "text": [
      "Results available for models: ['pllum', 'bielik', 'phi', 'gemma']\n"
     ]
    },
    {
     "data": {
      "application/vnd.microsoft.datawrangler.viewer.v0+json": {
       "columns": [
        {
         "name": "index",
         "rawType": "int64",
         "type": "integer"
        },
        {
         "name": "model",
         "rawType": "object",
         "type": "string"
        },
        {
         "name": "dataset",
         "rawType": "object",
         "type": "string"
        },
        {
         "name": "task",
         "rawType": "object",
         "type": "string"
        },
        {
         "name": "accuracy",
         "rawType": "float64",
         "type": "float"
        },
        {
         "name": "f1",
         "rawType": "float64",
         "type": "float"
        },
        {
         "name": "precision",
         "rawType": "float64",
         "type": "float"
        },
        {
         "name": "samples",
         "rawType": "int64",
         "type": "integer"
        },
        {
         "name": "time",
         "rawType": "float64",
         "type": "float"
        }
       ],
       "conversionMethod": "pd.DataFrame",
       "ref": "05f38365-997c-4690-b354-aa78741548a0",
       "rows": [
        [
         "0",
         "pllum",
         "dyk",
         "question-answer correctness",
         "0.9",
         "0.8999599839935974",
         "0.9",
         "50",
         "11.29710054397583"
        ],
        [
         "1",
         "pllum",
         "polemo2",
         "sentiment analysis",
         "0.26",
         "0.10317460317460317",
         "0.26",
         "50",
         "18.691227197647095"
        ],
        [
         "2",
         "pllum",
         "psc",
         "text similarity",
         "0.96",
         "0.9599358974358975",
         "0.96",
         "50",
         "19.932657957077026"
        ],
        [
         "3",
         "pllum",
         "cdsc",
         "entailment",
         "0.34",
         "0.1691542288557214",
         "0.34",
         "50",
         "14.702459573745728"
        ],
        [
         "4",
         "bielik",
         "dyk",
         "question-answer correctness",
         "0.64",
         "0.5989304812834224",
         "0.64",
         "50",
         "29.608235120773315"
        ],
        [
         "5",
         "bielik",
         "polemo2",
         "sentiment analysis",
         "0.26",
         "0.10317460317460317",
         "0.26",
         "50",
         "48.40486669540405"
        ],
        [
         "6",
         "bielik",
         "psc",
         "text similarity",
         "0.88",
         "0.8782467532467533",
         "0.88",
         "50",
         "34.56379842758179"
        ],
        [
         "7",
         "bielik",
         "cdsc",
         "entailment",
         "0.34",
         "0.1691542288557214",
         "0.34",
         "50",
         "45.40951132774353"
        ],
        [
         "8",
         "phi",
         "dyk",
         "question-answer correctness",
         "0.58",
         "0.565936337329475",
         "0.58",
         "50",
         "12.255938529968262"
        ],
        [
         "9",
         "phi",
         "polemo2",
         "sentiment analysis",
         "0.26",
         "0.10317460317460317",
         "0.26",
         "50",
         "20.735445499420166"
        ],
        [
         "10",
         "phi",
         "psc",
         "text similarity",
         "0.78",
         "0.7756017951856384",
         "0.78",
         "50",
         "15.931016206741333"
        ],
        [
         "11",
         "phi",
         "cdsc",
         "entailment",
         "0.34",
         "0.1691542288557214",
         "0.34",
         "50",
         "17.969160795211792"
        ],
        [
         "12",
         "gemma",
         "dyk",
         "question-answer correctness",
         "0.5",
         "0.3333333333333333",
         "0.5",
         "50",
         "17.14854407310486"
        ],
        [
         "13",
         "gemma",
         "polemo2",
         "sentiment analysis",
         "0.26",
         "0.10317460317460317",
         "0.26",
         "50",
         "32.45143103599548"
        ],
        [
         "14",
         "gemma",
         "psc",
         "text similarity",
         "0.5",
         "0.3333333333333333",
         "0.5",
         "50",
         "21.39801025390625"
        ],
        [
         "15",
         "gemma",
         "cdsc",
         "entailment",
         "0.34",
         "0.1691542288557214",
         "0.34",
         "50",
         "31.031124353408813"
        ]
       ],
       "shape": {
        "columns": 8,
        "rows": 16
       }
      },
      "text/html": [
       "<div>\n",
       "<style scoped>\n",
       "    .dataframe tbody tr th:only-of-type {\n",
       "        vertical-align: middle;\n",
       "    }\n",
       "\n",
       "    .dataframe tbody tr th {\n",
       "        vertical-align: top;\n",
       "    }\n",
       "\n",
       "    .dataframe thead th {\n",
       "        text-align: right;\n",
       "    }\n",
       "</style>\n",
       "<table border=\"1\" class=\"dataframe\">\n",
       "  <thead>\n",
       "    <tr style=\"text-align: right;\">\n",
       "      <th></th>\n",
       "      <th>model</th>\n",
       "      <th>dataset</th>\n",
       "      <th>task</th>\n",
       "      <th>accuracy</th>\n",
       "      <th>f1</th>\n",
       "      <th>precision</th>\n",
       "      <th>samples</th>\n",
       "      <th>time</th>\n",
       "    </tr>\n",
       "  </thead>\n",
       "  <tbody>\n",
       "    <tr>\n",
       "      <th>0</th>\n",
       "      <td>pllum</td>\n",
       "      <td>dyk</td>\n",
       "      <td>question-answer correctness</td>\n",
       "      <td>0.90</td>\n",
       "      <td>0.899960</td>\n",
       "      <td>0.90</td>\n",
       "      <td>50</td>\n",
       "      <td>11.297101</td>\n",
       "    </tr>\n",
       "    <tr>\n",
       "      <th>1</th>\n",
       "      <td>pllum</td>\n",
       "      <td>polemo2</td>\n",
       "      <td>sentiment analysis</td>\n",
       "      <td>0.26</td>\n",
       "      <td>0.103175</td>\n",
       "      <td>0.26</td>\n",
       "      <td>50</td>\n",
       "      <td>18.691227</td>\n",
       "    </tr>\n",
       "    <tr>\n",
       "      <th>2</th>\n",
       "      <td>pllum</td>\n",
       "      <td>psc</td>\n",
       "      <td>text similarity</td>\n",
       "      <td>0.96</td>\n",
       "      <td>0.959936</td>\n",
       "      <td>0.96</td>\n",
       "      <td>50</td>\n",
       "      <td>19.932658</td>\n",
       "    </tr>\n",
       "    <tr>\n",
       "      <th>3</th>\n",
       "      <td>pllum</td>\n",
       "      <td>cdsc</td>\n",
       "      <td>entailment</td>\n",
       "      <td>0.34</td>\n",
       "      <td>0.169154</td>\n",
       "      <td>0.34</td>\n",
       "      <td>50</td>\n",
       "      <td>14.702460</td>\n",
       "    </tr>\n",
       "    <tr>\n",
       "      <th>4</th>\n",
       "      <td>bielik</td>\n",
       "      <td>dyk</td>\n",
       "      <td>question-answer correctness</td>\n",
       "      <td>0.64</td>\n",
       "      <td>0.598930</td>\n",
       "      <td>0.64</td>\n",
       "      <td>50</td>\n",
       "      <td>29.608235</td>\n",
       "    </tr>\n",
       "    <tr>\n",
       "      <th>5</th>\n",
       "      <td>bielik</td>\n",
       "      <td>polemo2</td>\n",
       "      <td>sentiment analysis</td>\n",
       "      <td>0.26</td>\n",
       "      <td>0.103175</td>\n",
       "      <td>0.26</td>\n",
       "      <td>50</td>\n",
       "      <td>48.404867</td>\n",
       "    </tr>\n",
       "    <tr>\n",
       "      <th>6</th>\n",
       "      <td>bielik</td>\n",
       "      <td>psc</td>\n",
       "      <td>text similarity</td>\n",
       "      <td>0.88</td>\n",
       "      <td>0.878247</td>\n",
       "      <td>0.88</td>\n",
       "      <td>50</td>\n",
       "      <td>34.563798</td>\n",
       "    </tr>\n",
       "    <tr>\n",
       "      <th>7</th>\n",
       "      <td>bielik</td>\n",
       "      <td>cdsc</td>\n",
       "      <td>entailment</td>\n",
       "      <td>0.34</td>\n",
       "      <td>0.169154</td>\n",
       "      <td>0.34</td>\n",
       "      <td>50</td>\n",
       "      <td>45.409511</td>\n",
       "    </tr>\n",
       "    <tr>\n",
       "      <th>8</th>\n",
       "      <td>phi</td>\n",
       "      <td>dyk</td>\n",
       "      <td>question-answer correctness</td>\n",
       "      <td>0.58</td>\n",
       "      <td>0.565936</td>\n",
       "      <td>0.58</td>\n",
       "      <td>50</td>\n",
       "      <td>12.255939</td>\n",
       "    </tr>\n",
       "    <tr>\n",
       "      <th>9</th>\n",
       "      <td>phi</td>\n",
       "      <td>polemo2</td>\n",
       "      <td>sentiment analysis</td>\n",
       "      <td>0.26</td>\n",
       "      <td>0.103175</td>\n",
       "      <td>0.26</td>\n",
       "      <td>50</td>\n",
       "      <td>20.735445</td>\n",
       "    </tr>\n",
       "    <tr>\n",
       "      <th>10</th>\n",
       "      <td>phi</td>\n",
       "      <td>psc</td>\n",
       "      <td>text similarity</td>\n",
       "      <td>0.78</td>\n",
       "      <td>0.775602</td>\n",
       "      <td>0.78</td>\n",
       "      <td>50</td>\n",
       "      <td>15.931016</td>\n",
       "    </tr>\n",
       "    <tr>\n",
       "      <th>11</th>\n",
       "      <td>phi</td>\n",
       "      <td>cdsc</td>\n",
       "      <td>entailment</td>\n",
       "      <td>0.34</td>\n",
       "      <td>0.169154</td>\n",
       "      <td>0.34</td>\n",
       "      <td>50</td>\n",
       "      <td>17.969161</td>\n",
       "    </tr>\n",
       "    <tr>\n",
       "      <th>12</th>\n",
       "      <td>gemma</td>\n",
       "      <td>dyk</td>\n",
       "      <td>question-answer correctness</td>\n",
       "      <td>0.50</td>\n",
       "      <td>0.333333</td>\n",
       "      <td>0.50</td>\n",
       "      <td>50</td>\n",
       "      <td>17.148544</td>\n",
       "    </tr>\n",
       "    <tr>\n",
       "      <th>13</th>\n",
       "      <td>gemma</td>\n",
       "      <td>polemo2</td>\n",
       "      <td>sentiment analysis</td>\n",
       "      <td>0.26</td>\n",
       "      <td>0.103175</td>\n",
       "      <td>0.26</td>\n",
       "      <td>50</td>\n",
       "      <td>32.451431</td>\n",
       "    </tr>\n",
       "    <tr>\n",
       "      <th>14</th>\n",
       "      <td>gemma</td>\n",
       "      <td>psc</td>\n",
       "      <td>text similarity</td>\n",
       "      <td>0.50</td>\n",
       "      <td>0.333333</td>\n",
       "      <td>0.50</td>\n",
       "      <td>50</td>\n",
       "      <td>21.398010</td>\n",
       "    </tr>\n",
       "    <tr>\n",
       "      <th>15</th>\n",
       "      <td>gemma</td>\n",
       "      <td>cdsc</td>\n",
       "      <td>entailment</td>\n",
       "      <td>0.34</td>\n",
       "      <td>0.169154</td>\n",
       "      <td>0.34</td>\n",
       "      <td>50</td>\n",
       "      <td>31.031124</td>\n",
       "    </tr>\n",
       "  </tbody>\n",
       "</table>\n",
       "</div>"
      ],
      "text/plain": [
       "     model  dataset                         task  accuracy        f1  \\\n",
       "0    pllum      dyk  question-answer correctness      0.90  0.899960   \n",
       "1    pllum  polemo2           sentiment analysis      0.26  0.103175   \n",
       "2    pllum      psc              text similarity      0.96  0.959936   \n",
       "3    pllum     cdsc                   entailment      0.34  0.169154   \n",
       "4   bielik      dyk  question-answer correctness      0.64  0.598930   \n",
       "5   bielik  polemo2           sentiment analysis      0.26  0.103175   \n",
       "6   bielik      psc              text similarity      0.88  0.878247   \n",
       "7   bielik     cdsc                   entailment      0.34  0.169154   \n",
       "8      phi      dyk  question-answer correctness      0.58  0.565936   \n",
       "9      phi  polemo2           sentiment analysis      0.26  0.103175   \n",
       "10     phi      psc              text similarity      0.78  0.775602   \n",
       "11     phi     cdsc                   entailment      0.34  0.169154   \n",
       "12   gemma      dyk  question-answer correctness      0.50  0.333333   \n",
       "13   gemma  polemo2           sentiment analysis      0.26  0.103175   \n",
       "14   gemma      psc              text similarity      0.50  0.333333   \n",
       "15   gemma     cdsc                   entailment      0.34  0.169154   \n",
       "\n",
       "    precision  samples       time  \n",
       "0        0.90       50  11.297101  \n",
       "1        0.26       50  18.691227  \n",
       "2        0.96       50  19.932658  \n",
       "3        0.34       50  14.702460  \n",
       "4        0.64       50  29.608235  \n",
       "5        0.26       50  48.404867  \n",
       "6        0.88       50  34.563798  \n",
       "7        0.34       50  45.409511  \n",
       "8        0.58       50  12.255939  \n",
       "9        0.26       50  20.735445  \n",
       "10       0.78       50  15.931016  \n",
       "11       0.34       50  17.969161  \n",
       "12       0.50       50  17.148544  \n",
       "13       0.26       50  32.451431  \n",
       "14       0.50       50  21.398010  \n",
       "15       0.34       50  31.031124  "
      ]
     },
     "execution_count": 18,
     "metadata": {},
     "output_type": "execute_result"
    }
   ],
   "source": [
    "# Check which models we have results for\n",
    "print(f\"Results available for models: {list(all_results.keys())}\")\n",
    "\n",
    "# Create aggregated results DataFrame\n",
    "results_df = aggregate_results(all_results)\n",
    "results_df"
   ]
  },
  {
   "cell_type": "code",
   "execution_count": 19,
   "metadata": {},
   "outputs": [
    {
     "name": "stderr",
     "output_type": "stream",
     "text": [
      "2025-03-20 12:00:39,476 - src.evaluation - INFO - Saved visualization to ../results/performance_comparison.png\n"
     ]
    },
    {
     "data": {
      "image/png": "[encoded data removed]",
      "text/plain": [
       "<Figure size 1400x1000 with 4 Axes>"
      ]
     },
     "metadata": {},
     "output_type": "display_data"
    }
   ],
   "source": [
    "# Visualize results\n",
    "visualize_results(results_df, output_path='../results/performance_comparison.png')"
   ]
  },
  {
   "cell_type": "code",
   "execution_count": 20,
   "metadata": {},
   "outputs": [
    {
     "name": "stdout",
     "output_type": "stream",
     "text": [
      "# Polish Language Model Performance Summary\n",
      "\n",
      "## Overall Performance\n",
      "\n",
      "Average metrics across all tasks:\n",
      "\n",
      "| model   |   accuracy |       f1 |   precision |\n",
      "|:--------|-----------:|---------:|------------:|\n",
      "| bielik  |      0.53  | 0.437377 |       0.53  |\n",
      "| gemma   |      0.4   | 0.234749 |       0.4   |\n",
      "| phi     |      0.49  | 0.403467 |       0.49  |\n",
      "| pllum   |      0.615 | 0.533056 |       0.615 |\n",
      "\n",
      "## Performance by Dataset\n",
      "\n",
      "### dyk\n",
      "\n",
      "| model   | dataset   | task                        |   accuracy |       f1 |   precision |   samples |    time |\n",
      "|:--------|:----------|:----------------------------|-----------:|---------:|------------:|----------:|--------:|\n",
      "| pllum   | dyk       | question-answer correctness |       0.9  | 0.89996  |        0.9  |        50 | 11.2971 |\n",
      "| bielik  | dyk       | question-answer correctness |       0.64 | 0.59893  |        0.64 |        50 | 29.6082 |\n",
      "| phi     | dyk       | question-answer correctness |       0.58 | 0.565936 |        0.58 |        50 | 12.2559 |\n",
      "| gemma   | dyk       | question-answer correctness |       0.5  | 0.333333 |        0.5  |        50 | 17.1485 |\n",
      "\n",
      "### polemo2\n",
      "\n",
      "| model   | dataset   | task               |   accuracy |       f1 |   precision |   samples |    time |\n",
      "|:--------|:----------|:-------------------|-----------:|---------:|------------:|----------:|--------:|\n",
      "| pllum   | polemo2   | sentiment analysis |       0.26 | 0.103175 |        0.26 |        50 | 18.6912 |\n",
      "| bielik  | polemo2   | sentiment analysis |       0.26 | 0.103175 |        0.26 |        50 | 48.4049 |\n",
      "| phi     | polemo2   | sentiment analysis |       0.26 | 0.103175 |        0.26 |        50 | 20.7354 |\n",
      "| gemma   | polemo2   | sentiment analysis |       0.26 | 0.103175 |        0.26 |        50 | 32.4514 |\n",
      "\n",
      "### psc\n",
      "\n",
      "| model   | dataset   | task            |   accuracy |       f1 |   precision |   samples |    time |\n",
      "|:--------|:----------|:----------------|-----------:|---------:|------------:|----------:|--------:|\n",
      "| pllum   | psc       | text similarity |       0.96 | 0.959936 |        0.96 |        50 | 19.9327 |\n",
      "| bielik  | psc       | text similarity |       0.88 | 0.878247 |        0.88 |        50 | 34.5638 |\n",
      "| phi     | psc       | text similarity |       0.78 | 0.775602 |        0.78 |        50 | 15.931  |\n",
      "| gemma   | psc       | text similarity |       0.5  | 0.333333 |        0.5  |        50 | 21.398  |\n",
      "\n",
      "### cdsc\n",
      "\n",
      "| model   | dataset   | task       |   accuracy |       f1 |   precision |   samples |    time |\n",
      "|:--------|:----------|:-----------|-----------:|---------:|------------:|----------:|--------:|\n",
      "| pllum   | cdsc      | entailment |       0.34 | 0.169154 |        0.34 |        50 | 14.7025 |\n",
      "| bielik  | cdsc      | entailment |       0.34 | 0.169154 |        0.34 |        50 | 45.4095 |\n",
      "| phi     | cdsc      | entailment |       0.34 | 0.169154 |        0.34 |        50 | 17.9692 |\n",
      "| gemma   | cdsc      | entailment |       0.34 | 0.169154 |        0.34 |        50 | 31.0311 |\n",
      "\n",
      "## Conclusion\n",
      "\n",
      "The best performing model overall is **pllum**.\n",
      "\n",
      "## Evaluation Details\n",
      "\n",
      "- Evaluation completed on: 2025-03-20 12:00:48\n",
      "- Total datasets evaluated: 4\n",
      "- Models evaluated: pllum, bielik, phi, gemma\n",
      "\n"
     ]
    }
   ],
   "source": [
    "# Generate and display summary report\n",
    "summary_report = generate_summary_report(results_df)\n",
    "print(summary_report)"
   ]
  },
  {
   "cell_type": "code",
   "execution_count": 21,
   "metadata": {},
   "outputs": [],
   "source": [
    "# Save summary report to file\n",
    "with open(\"../results/summary_report.md\", \"w\", encoding=\"utf-8\") as f:\n",
    "    f.write(summary_report)"
   ]
  },
  {
   "cell_type": "markdown",
   "metadata": {},
   "source": [
    "## Dataset-Specific Analysis\n",
    "\n",
    "Let's look at the performance on each dataset separately."
   ]
  },
  {
   "cell_type": "code",
   "execution_count": 22,
   "metadata": {},
   "outputs": [
    {
     "data": {
      "image/png": "[encoded data removed]",
      "text/plain": [
       "<Figure size 1000x600 with 1 Axes>"
      ]
     },
     "metadata": {},
     "output_type": "display_data"
    }
   ],
   "source": [
    "# Analyze performance on DYK dataset\n",
    "dyk_results = results_df[results_df['dataset'] == 'dyk']\n",
    "plt.figure(figsize=(10, 6))\n",
    "sns.barplot(x='model', y='f1', data=dyk_results)\n",
    "plt.title('Performance on DYK Dataset (F1 Score)')\n",
    "plt.ylim(0, 1)\n",
    "plt.grid(axis='y', linestyle='--', alpha=0.7)\n",
    "plt.savefig('../results/dyk_performance.png', dpi=300, bbox_inches='tight')\n",
    "plt.show()"
   ]
  },
  {
   "cell_type": "code",
   "execution_count": 23,
   "metadata": {},
   "outputs": [
    {
     "data": {
      "image/png": "[encoded data removed]",
      "text/plain": [
       "<Figure size 1000x600 with 1 Axes>"
      ]
     },
     "metadata": {},
     "output_type": "display_data"
    }
   ],
   "source": [
    "# Analyze performance on POLEMO dataset\n",
    "polemo_results = results_df[results_df['dataset'] == 'polemo2']\n",
    "plt.figure(figsize=(10, 6))\n",
    "sns.barplot(x='model', y='accuracy', data=polemo_results)\n",
    "plt.title('Performance on POLEMO Dataset (Accuracy)')\n",
    "plt.ylim(0, 1)\n",
    "plt.grid(axis='y', linestyle='--', alpha=0.7)\n",
    "plt.savefig('../results/polemo_performance.png', dpi=300, bbox_inches='tight')\n",
    "plt.show()"
   ]
  },
  {
   "cell_type": "code",
   "execution_count": 24,
   "metadata": {},
   "outputs": [
    {
     "data": {
      "image/png": "[encoded data removed]",
      "text/plain": [
       "<Figure size 1000x600 with 1 Axes>"
      ]
     },
     "metadata": {},
     "output_type": "display_data"
    }
   ],
   "source": [
    "# Analyze performance on PSC dataset\n",
    "psc_results = results_df[results_df['dataset'] == 'psc']\n",
    "plt.figure(figsize=(10, 6))\n",
    "sns.barplot(x='model', y='f1', data=psc_results)\n",
    "plt.title('Performance on PSC Dataset (F1 Score)')\n",
    "plt.ylim(0, 1)\n",
    "plt.grid(axis='y', linestyle='--', alpha=0.7)\n",
    "plt.savefig('../results/psc_performance.png', dpi=300, bbox_inches='tight')\n",
    "plt.show()"
   ]
  },
  {
   "cell_type": "code",
   "execution_count": 25,
   "metadata": {},
   "outputs": [
    {
     "data": {
      "image/png": "[encoded data removed]",
      "text/plain": [
       "<Figure size 1000x600 with 1 Axes>"
      ]
     },
     "metadata": {},
     "output_type": "display_data"
    }
   ],
   "source": [
    "# Analyze performance on CDSC dataset\n",
    "cdsc_results = results_df[results_df['dataset'] == 'cdsc']\n",
    "plt.figure(figsize=(10, 6))\n",
    "sns.barplot(x='model', y='accuracy', data=cdsc_results)\n",
    "plt.title('Performance on CDSC Dataset (Accuracy)')\n",
    "plt.ylim(0, 1)\n",
    "plt.grid(axis='y', linestyle='--', alpha=0.7)\n",
    "plt.savefig('../results/cdsc_performance.png', dpi=300, bbox_inches='tight')\n",
    "plt.show()"
   ]
  },
  {
   "cell_type": "markdown",
   "metadata": {},
   "source": [
    "## Performance Comparison\n",
    "\n",
    "Let's compare the overall performance of the models across all metrics."
   ]
  },
  {
   "cell_type": "code",
   "execution_count": 26,
   "metadata": {},
   "outputs": [
    {
     "data": {
      "application/vnd.microsoft.datawrangler.viewer.v0+json": {
       "columns": [
        {
         "name": "model",
         "rawType": "object",
         "type": "string"
        },
        {
         "name": "accuracy",
         "rawType": "float64",
         "type": "float"
        },
        {
         "name": "f1",
         "rawType": "float64",
         "type": "float"
        },
        {
         "name": "precision",
         "rawType": "float64",
         "type": "float"
        }
       ],
       "conversionMethod": "pd.DataFrame",
       "ref": "5354352c-2c75-4f8c-bb7e-9da133d87e2c",
       "rows": [
        [
         "bielik",
         "0.53",
         "0.43737651664012506",
         "0.53"
        ],
        [
         "gemma",
         "0.4",
         "0.2347488746742478",
         "0.4"
        ],
        [
         "phi",
         "0.49",
         "0.4034667411363595",
         "0.49"
        ],
        [
         "pllum",
         "0.615",
         "0.5330561783649549",
         "0.615"
        ]
       ],
       "shape": {
        "columns": 3,
        "rows": 4
       }
      },
      "text/html": [
       "<div>\n",
       "<style scoped>\n",
       "    .dataframe tbody tr th:only-of-type {\n",
       "        vertical-align: middle;\n",
       "    }\n",
       "\n",
       "    .dataframe tbody tr th {\n",
       "        vertical-align: top;\n",
       "    }\n",
       "\n",
       "    .dataframe thead th {\n",
       "        text-align: right;\n",
       "    }\n",
       "</style>\n",
       "<table border=\"1\" class=\"dataframe\">\n",
       "  <thead>\n",
       "    <tr style=\"text-align: right;\">\n",
       "      <th></th>\n",
       "      <th>accuracy</th>\n",
       "      <th>f1</th>\n",
       "      <th>precision</th>\n",
       "    </tr>\n",
       "    <tr>\n",
       "      <th>model</th>\n",
       "      <th></th>\n",
       "      <th></th>\n",
       "      <th></th>\n",
       "    </tr>\n",
       "  </thead>\n",
       "  <tbody>\n",
       "    <tr>\n",
       "      <th>bielik</th>\n",
       "      <td>0.530</td>\n",
       "      <td>0.437377</td>\n",
       "      <td>0.530</td>\n",
       "    </tr>\n",
       "    <tr>\n",
       "      <th>gemma</th>\n",
       "      <td>0.400</td>\n",
       "      <td>0.234749</td>\n",
       "      <td>0.400</td>\n",
       "    </tr>\n",
       "    <tr>\n",
       "      <th>phi</th>\n",
       "      <td>0.490</td>\n",
       "      <td>0.403467</td>\n",
       "      <td>0.490</td>\n",
       "    </tr>\n",
       "    <tr>\n",
       "      <th>pllum</th>\n",
       "      <td>0.615</td>\n",
       "      <td>0.533056</td>\n",
       "      <td>0.615</td>\n",
       "    </tr>\n",
       "  </tbody>\n",
       "</table>\n",
       "</div>"
      ],
      "text/plain": [
       "        accuracy        f1  precision\n",
       "model                                \n",
       "bielik     0.530  0.437377      0.530\n",
       "gemma      0.400  0.234749      0.400\n",
       "phi        0.490  0.403467      0.490\n",
       "pllum      0.615  0.533056      0.615"
      ]
     },
     "execution_count": 26,
     "metadata": {},
     "output_type": "execute_result"
    }
   ],
   "source": [
    "# Calculate average performance per model\n",
    "avg_performance = results_df.groupby('model')[['accuracy', 'f1', 'precision']].mean()\n",
    "avg_performance"
   ]
  },
  {
   "cell_type": "code",
   "execution_count": 27,
   "metadata": {},
   "outputs": [
    {
     "data": {
      "image/png": "[encoded data removed]",
      "text/plain": [
       "<Figure size 1200x800 with 1 Axes>"
      ]
     },
     "metadata": {},
     "output_type": "display_data"
    }
   ],
   "source": [
    "# Visualization of overall performance\n",
    "avg_performance_long = avg_performance.reset_index().melt(\n",
    "    id_vars=['model'],\n",
    "    value_vars=['accuracy', 'f1', 'precision'],\n",
    "    var_name='metric',\n",
    "    value_name='score'\n",
    ")\n",
    "\n",
    "plt.figure(figsize=(12, 8))\n",
    "sns.barplot(x='model', y='score', hue='metric', data=avg_performance_long)\n",
    "plt.title('Overall Model Performance Across Metrics')\n",
    "plt.xlabel('Model')\n",
    "plt.ylabel('Score')\n",
    "plt.ylim(0, 1)\n",
    "plt.grid(axis='y', linestyle='--', alpha=0.7)\n",
    "plt.legend(title='Metric')\n",
    "plt.tight_layout()\n",
    "plt.savefig('../results/overall_performance.png', dpi=300, bbox_inches='tight')\n",
    "plt.show()"
   ]
  },
  {
   "cell_type": "markdown",
   "metadata": {},
   "source": [
    "## Polish-Specific Models Comparison\n",
    "\n",
    "Let's specifically compare the two Polish-dedicated models (Bielik and PLLuM) against the multilingual models."
   ]
  },
  {
   "cell_type": "code",
   "execution_count": 28,
   "metadata": {},
   "outputs": [
    {
     "data": {
      "image/png": "[encoded data removed]",
      "text/plain": [
       "<Figure size 1400x1000 with 2 Axes>"
      ]
     },
     "metadata": {},
     "output_type": "display_data"
    }
   ],
   "source": [
    "# Group models by type (Polish-specific vs multilingual)\n",
    "polish_models = ['bielik', 'pllum']\n",
    "multilingual_models = ['gemma', 'phi']\n",
    "\n",
    "# Add model type column\n",
    "results_df['model_type'] = results_df['model'].apply(\n",
    "    lambda x: 'Polish-dedicated' if x in polish_models else 'Multilingual'\n",
    ")\n",
    "\n",
    "# Calculate average performance by model type\n",
    "model_type_performance = results_df.groupby(['model_type', 'dataset'])[\n",
    "    ['accuracy', 'f1', 'precision']\n",
    "].mean().reset_index()\n",
    "\n",
    "# Plot comparison\n",
    "plt.figure(figsize=(14, 10))\n",
    "\n",
    "# Plot accuracy by dataset and model type\n",
    "plt.subplot(2, 2, 1)\n",
    "sns.barplot(x='dataset', y='accuracy', hue='model_type', data=model_type_performance)\n",
    "plt.title('Accuracy by Dataset and Model Type')\n",
    "plt.ylim(0, 1)\n",
    "plt.xticks(rotation=45)\n",
    "\n",
    "# Plot F1 score by dataset and model type\n",
    "plt.subplot(2, 2, 2)\n",
    "sns.barplot(x='dataset', y='f1', hue='model_type', data=model_type_performance)\n",
    "plt.title('F1 Score by Dataset and Model Type')\n",
    "plt.ylim(0, 1)\n",
    "plt.xticks(rotation=45)\n",
    "\n",
    "plt.tight_layout()\n",
    "plt.savefig('../results/polish_vs_multilingual.png', dpi=300, bbox_inches='tight')\n",
    "plt.show()"
   ]
  },
  {
   "cell_type": "markdown",
   "metadata": {},
   "source": [
    "## Conclusion\n",
    "\n",
    "Based on the evaluation results, we can draw several conclusions:\n",
    "\n",
    "1. **Overall Performance Comparison**: [To be filled after running the evaluation]\n",
    "2. **Task-Specific Strengths**: [To be filled after running the evaluation]\n",
    "3. **Polish vs. Multilingual Models**: [To be filled after running the evaluation]\n",
    "4. **Size vs. Performance Trade-off**: [To be filled after running the evaluation]\n",
    "5. **PLLuM vs. Bielik Comparison**: [To be filled after running the evaluation]\n",
    "\n",
    "The evaluation demonstrates [overall conclusion to be added after running]."
   ]
  }
 ],
 "metadata": {
  "kernelspec": {
   "display_name": ".venv",
   "language": "python",
   "name": "python3"
  },
  "language_info": {
   "codemirror_mode": {
    "name": "ipython",
    "version": 3
   },
   "file_extension": ".py",
   "mimetype": "text/x-python",
   "name": "python",
   "nbconvert_exporter": "python",
   "pygments_lexer": "ipython3",
   "version": "3.12.4"
  }
 },
 "nbformat": 4,
 "nbformat_minor": 4
}
